{
 "cells": [
  {
   "cell_type": "code",
   "execution_count": 2,
   "metadata": {},
   "outputs": [
    {
     "data": {
      "text/html": [
       "<style type=\"text/css\">\n",
       ".container {\n",
       "    width: 100%;\n",
       "}\n",
       "div#notebook {\n",
       "    padding-top: 1em;\n",
       "}\n",
       "#header-container {\n",
       "    display: none;\n",
       "}\n",
       "#header-bar {\n",
       "    display: none;\n",
       "}\n",
       "#maintoolbar {\n",
       "    display: none;\n",
       "}\n",
       "#menubar-container {\n",
       "    position: fixed;\n",
       "    margin-top: 0;\n",
       "}\n",
       "#site {\n",
       "    height: auto !important;\n",
       "}\n",
       "</style>"
      ],
      "text/plain": [
       "<IPython.core.display.HTML object>"
      ]
     },
     "metadata": {},
     "output_type": "display_data"
    },
    {
     "name": "stdout",
     "output_type": "stream",
     "text": [
      "cartopy 0.15.1\n"
     ]
    }
   ],
   "source": [
    "%run setup.ipynb\n",
    "%matplotlib inline\n",
    "import hapclust\n",
    "import cartopy; print('cartopy', cartopy.__version__)\n",
    "import cartopy.crs as ccrs\n",
    "import cartopy.feature as cfeature\n",
    "import pandas as pd\n",
    "import numpy as np\n",
    "import pickle as peterpickedapickledpepper"
   ]
  },
  {
   "cell_type": "markdown",
   "metadata": {},
   "source": [
    "### setup cartopy"
   ]
  },
  {
   "cell_type": "code",
   "execution_count": 3,
   "metadata": {
    "collapsed": true
   },
   "outputs": [],
   "source": [
    "#grabbed these from ag1000g meta - no need to bring in the meta data file\n",
    "df_lonlat = pd.DataFrame()\n",
    "df_lonlat['pop'] = ['AOM', 'BFM', 'BFS', 'CMS', 'GAS', 'GNS', 'GWA', 'KES', 'UGS']\n",
    "df_lonlat['longitude'] = [13.291000, -4.413900, -4.413900, 13.936844, 9.455000, -9.675065, -15.582000, 39.824614, 34.026000]\n",
    "df_lonlat['latitude'] = [-8.821000, 11.206500,11.206500, 4.937851, 0.384000, 8.887097, 11.891000, -3.702068, 0.770000]\n",
    "df_lonlat = df_lonlat.set_index('pop')"
   ]
  },
  {
   "cell_type": "code",
   "execution_count": 4,
   "metadata": {},
   "outputs": [
    {
     "name": "stdout",
     "output_type": "stream",
     "text": [
      "AOM -8.821 13.291\n",
      "BFM 11.2065 -4.4139\n",
      "BFS 11.2065 -4.4139\n",
      "CMS 4.937851 13.936844\n",
      "GAS 0.384 9.455\n",
      "GNS 8.887097 -9.675065\n",
      "GWA 11.891 -15.582\n",
      "KES -3.702068 39.824614\n",
      "UGS 0.77 34.026\n"
     ]
    }
   ],
   "source": [
    "#check\n",
    "for country, row in df_lonlat.iterrows():\n",
    "    print(country, row.latitude, row.longitude)"
   ]
  },
  {
   "cell_type": "code",
   "execution_count": 5,
   "metadata": {},
   "outputs": [
    {
     "data": {
      "text/plain": [
       "1.0"
      ]
     },
     "execution_count": 5,
     "metadata": {},
     "output_type": "execute_result"
    }
   ],
   "source": [
    "crs_lonlat = ccrs.PlateCarree()\n",
    "ratios=np.asarray([0.5, 0.5])\n",
    "sum(ratios)"
   ]
  },
  {
   "cell_type": "markdown",
   "metadata": {},
   "source": [
    "### setup data"
   ]
  },
  {
   "cell_type": "code",
   "execution_count": 6,
   "metadata": {},
   "outputs": [
    {
     "data": {
      "text/plain": [
       "['F1', 'F2', 'F3', 'F4', 'F5', 'L1', 'L2', 'S1', 'S2', 'S3', 'S4/5']"
      ]
     },
     "execution_count": 6,
     "metadata": {},
     "output_type": "execute_result"
    }
   ],
   "source": [
    "tbl_haplotypes = etl.fromtsv('../data/ag1000g.phase1.AR3.1.haplotypes.meta.txt')\n",
    "hap_pops = np.array(tbl_haplotypes.values('population'))\n",
    "# need to use named colors for graphviz\n",
    "pop_colors = {\n",
    "    'AOM': 'brown',\n",
    "    'BFM': 'firebrick1',\n",
    "    'GWA': 'goldenrod1',\n",
    "    'GNS': 'cadetblue1',\n",
    "    'BFS': 'deepskyblue',\n",
    "    'CMS': 'dodgerblue3',\n",
    "    'UGS': 'palegreen',\n",
    "    'GAS': 'olivedrab',\n",
    "    'KES': 'grey47',\n",
    "    'colony': 'black'\n",
    "}\n",
    "#associates pop colours with haps\n",
    "hap_colors = np.array([pop_colors[p] for p in hap_pops])\n",
    "\n",
    "#haplogroup indices generated in Figure_1a_Clado_SM.ipynb\n",
    "with open('../data/clust_dict.pickle', 'rb') as handle:\n",
    "    clus_dict = peterpickedapickledpepper.load(handle)\n",
    "\n",
    "sorted(clus_dict.keys())"
   ]
  },
  {
   "cell_type": "markdown",
   "metadata": {},
   "source": [
    "## calculate haplogroup frequencies across populations"
   ]
  },
  {
   "cell_type": "code",
   "execution_count": 7,
   "metadata": {
    "collapsed": true
   },
   "outputs": [],
   "source": [
    "#COUNT HAPS - make lists (columns) for each cluster so that we can turn these into a df \n",
    "\n",
    "#first set up empty array with 0s\n",
    "arr = np.zeros([10,11], dtype=int)\n",
    "pclu = list(np.unique(hap_pops))\n",
    "\n",
    "#then loop through haplogroup clusters\n",
    "for hg in sorted(clus_dict.keys()):\n",
    "    hg_pops = hap_pops.take(list(clus_dict[hg]))\n",
    "    unique, counts = np.unique(hg_pops, return_counts=True)\n",
    "    clus_index = list(sorted(clus_dict.keys())).index(hg) #this just gives on of the coordinates for the array\n",
    "    \n",
    "    #then loop through populations present in that haplogroup cluster\n",
    "    for u, c in zip(unique, counts):\n",
    "        pop_index = pclu.index(u) # this gives the other coordinate\n",
    "        arr[pop_index, clus_index] = c\n",
    "        #print(clus_index,cov, u, pop_index, c)\n"
   ]
  },
  {
   "cell_type": "code",
   "execution_count": 8,
   "metadata": {},
   "outputs": [
    {
     "data": {
      "text/plain": [
       "array([[ 91,   0,   0,   0,   0,   0,   0,   0,   0,   0,   0],\n",
       "       [113,   0,   0,   0,   0,   0,  18,   0,   0,   0,   0],\n",
       "       [162,   0,   0,   0,   0,   0,   0,   0,   0,   0,   0],\n",
       "       [ 33,  13,  51,  26, 173,   0,   0,   0,   8,   0,  73],\n",
       "       [  0,   0,   0,  16,  24,   0,   0,   0,  71,   0,   0],\n",
       "       [ 62,   0,   0,   0,   0,   0,   0,   0,   0,   0,   0],\n",
       "       [  0,   0,   0,   0,   0,   0,   0,   0,   0,   0,   0],\n",
       "       [  0,   0,   0,   0,   0,  16,   0,   0,   0,  64,   0],\n",
       "       [  0,   0,   0,   0,   0,   0,   0, 108,   0,  98,   0],\n",
       "       [  0,   0,   0,   0,   0,   0,   0,   0,   0,   0,   0]])"
      ]
     },
     "execution_count": 8,
     "metadata": {},
     "output_type": "execute_result"
    }
   ],
   "source": [
    "#check\n",
    "arr"
   ]
  },
  {
   "cell_type": "code",
   "execution_count": 9,
   "metadata": {},
   "outputs": [
    {
     "name": "stdout",
     "output_type": "stream",
     "text": [
      "AOM 120\n",
      "BFM 138\n",
      "BFS 162\n",
      "CMS 550\n",
      "GAS 112\n",
      "GNS 62\n",
      "GWA 92\n",
      "KES 88\n",
      "UGS 206\n",
      "colony 16\n",
      "total = 1546 .   total - colony = 1530\n"
     ]
    }
   ],
   "source": [
    "# we need to know the total number of haplotypes at each site to sort out pie chart size and proportions\n",
    "unique, counts = np.unique(hap_pops, return_counts=True)\n",
    "for u, c in zip(unique, counts):\n",
    "    print(u, c)\n",
    "print(\"total =\",sum(counts), \".   total - colony =\", sum(counts)-16)"
   ]
  },
  {
   "cell_type": "code",
   "execution_count": 10,
   "metadata": {},
   "outputs": [
    {
     "data": {
      "text/html": [
       "<div>\n",
       "<style>\n",
       "    .dataframe thead tr:only-child th {\n",
       "        text-align: right;\n",
       "    }\n",
       "\n",
       "    .dataframe thead th {\n",
       "        text-align: left;\n",
       "    }\n",
       "\n",
       "    .dataframe tbody tr th {\n",
       "        vertical-align: top;\n",
       "    }\n",
       "</style>\n",
       "<table border=\"1\" class=\"dataframe\">\n",
       "  <thead>\n",
       "    <tr style=\"text-align: right;\">\n",
       "      <th></th>\n",
       "      <th>F1</th>\n",
       "      <th>F2</th>\n",
       "      <th>F3</th>\n",
       "      <th>F4</th>\n",
       "      <th>F5</th>\n",
       "      <th>L1</th>\n",
       "      <th>L2</th>\n",
       "      <th>S1</th>\n",
       "      <th>S2</th>\n",
       "      <th>S3</th>\n",
       "      <th>S4/5</th>\n",
       "      <th>wildtype</th>\n",
       "      <th>total</th>\n",
       "    </tr>\n",
       "  </thead>\n",
       "  <tbody>\n",
       "    <tr>\n",
       "      <th>AOM</th>\n",
       "      <td>91</td>\n",
       "      <td>0</td>\n",
       "      <td>0</td>\n",
       "      <td>0</td>\n",
       "      <td>0</td>\n",
       "      <td>0</td>\n",
       "      <td>0</td>\n",
       "      <td>0</td>\n",
       "      <td>0</td>\n",
       "      <td>0</td>\n",
       "      <td>0</td>\n",
       "      <td>29</td>\n",
       "      <td>120</td>\n",
       "    </tr>\n",
       "    <tr>\n",
       "      <th>BFM</th>\n",
       "      <td>113</td>\n",
       "      <td>0</td>\n",
       "      <td>0</td>\n",
       "      <td>0</td>\n",
       "      <td>0</td>\n",
       "      <td>0</td>\n",
       "      <td>18</td>\n",
       "      <td>0</td>\n",
       "      <td>0</td>\n",
       "      <td>0</td>\n",
       "      <td>0</td>\n",
       "      <td>7</td>\n",
       "      <td>138</td>\n",
       "    </tr>\n",
       "    <tr>\n",
       "      <th>BFS</th>\n",
       "      <td>162</td>\n",
       "      <td>0</td>\n",
       "      <td>0</td>\n",
       "      <td>0</td>\n",
       "      <td>0</td>\n",
       "      <td>0</td>\n",
       "      <td>0</td>\n",
       "      <td>0</td>\n",
       "      <td>0</td>\n",
       "      <td>0</td>\n",
       "      <td>0</td>\n",
       "      <td>0</td>\n",
       "      <td>162</td>\n",
       "    </tr>\n",
       "    <tr>\n",
       "      <th>CMS</th>\n",
       "      <td>33</td>\n",
       "      <td>13</td>\n",
       "      <td>51</td>\n",
       "      <td>26</td>\n",
       "      <td>173</td>\n",
       "      <td>0</td>\n",
       "      <td>0</td>\n",
       "      <td>0</td>\n",
       "      <td>8</td>\n",
       "      <td>0</td>\n",
       "      <td>73</td>\n",
       "      <td>173</td>\n",
       "      <td>550</td>\n",
       "    </tr>\n",
       "    <tr>\n",
       "      <th>GAS</th>\n",
       "      <td>0</td>\n",
       "      <td>0</td>\n",
       "      <td>0</td>\n",
       "      <td>16</td>\n",
       "      <td>24</td>\n",
       "      <td>0</td>\n",
       "      <td>0</td>\n",
       "      <td>0</td>\n",
       "      <td>71</td>\n",
       "      <td>0</td>\n",
       "      <td>0</td>\n",
       "      <td>1</td>\n",
       "      <td>112</td>\n",
       "    </tr>\n",
       "    <tr>\n",
       "      <th>GNS</th>\n",
       "      <td>62</td>\n",
       "      <td>0</td>\n",
       "      <td>0</td>\n",
       "      <td>0</td>\n",
       "      <td>0</td>\n",
       "      <td>0</td>\n",
       "      <td>0</td>\n",
       "      <td>0</td>\n",
       "      <td>0</td>\n",
       "      <td>0</td>\n",
       "      <td>0</td>\n",
       "      <td>0</td>\n",
       "      <td>62</td>\n",
       "    </tr>\n",
       "    <tr>\n",
       "      <th>GWA</th>\n",
       "      <td>0</td>\n",
       "      <td>0</td>\n",
       "      <td>0</td>\n",
       "      <td>0</td>\n",
       "      <td>0</td>\n",
       "      <td>0</td>\n",
       "      <td>0</td>\n",
       "      <td>0</td>\n",
       "      <td>0</td>\n",
       "      <td>0</td>\n",
       "      <td>0</td>\n",
       "      <td>92</td>\n",
       "      <td>92</td>\n",
       "    </tr>\n",
       "    <tr>\n",
       "      <th>KES</th>\n",
       "      <td>0</td>\n",
       "      <td>0</td>\n",
       "      <td>0</td>\n",
       "      <td>0</td>\n",
       "      <td>0</td>\n",
       "      <td>16</td>\n",
       "      <td>0</td>\n",
       "      <td>0</td>\n",
       "      <td>0</td>\n",
       "      <td>64</td>\n",
       "      <td>0</td>\n",
       "      <td>8</td>\n",
       "      <td>88</td>\n",
       "    </tr>\n",
       "    <tr>\n",
       "      <th>UGS</th>\n",
       "      <td>0</td>\n",
       "      <td>0</td>\n",
       "      <td>0</td>\n",
       "      <td>0</td>\n",
       "      <td>0</td>\n",
       "      <td>0</td>\n",
       "      <td>0</td>\n",
       "      <td>108</td>\n",
       "      <td>0</td>\n",
       "      <td>98</td>\n",
       "      <td>0</td>\n",
       "      <td>0</td>\n",
       "      <td>206</td>\n",
       "    </tr>\n",
       "    <tr>\n",
       "      <th>colony</th>\n",
       "      <td>0</td>\n",
       "      <td>0</td>\n",
       "      <td>0</td>\n",
       "      <td>0</td>\n",
       "      <td>0</td>\n",
       "      <td>0</td>\n",
       "      <td>0</td>\n",
       "      <td>0</td>\n",
       "      <td>0</td>\n",
       "      <td>0</td>\n",
       "      <td>0</td>\n",
       "      <td>16</td>\n",
       "      <td>16</td>\n",
       "    </tr>\n",
       "  </tbody>\n",
       "</table>\n",
       "</div>"
      ],
      "text/plain": [
       "         F1  F2  F3  F4   F5  L1  L2   S1  S2  S3  S4/5  wildtype  total\n",
       "AOM      91   0   0   0    0   0   0    0   0   0     0        29    120\n",
       "BFM     113   0   0   0    0   0  18    0   0   0     0         7    138\n",
       "BFS     162   0   0   0    0   0   0    0   0   0     0         0    162\n",
       "CMS      33  13  51  26  173   0   0    0   8   0    73       173    550\n",
       "GAS       0   0   0  16   24   0   0    0  71   0     0         1    112\n",
       "GNS      62   0   0   0    0   0   0    0   0   0     0         0     62\n",
       "GWA       0   0   0   0    0   0   0    0   0   0     0        92     92\n",
       "KES       0   0   0   0    0  16   0    0   0  64     0         8     88\n",
       "UGS       0   0   0   0    0   0   0  108   0  98     0         0    206\n",
       "colony    0   0   0   0    0   0   0    0   0   0     0        16     16"
      ]
     },
     "execution_count": 10,
     "metadata": {},
     "output_type": "execute_result"
    }
   ],
   "source": [
    "#make df for plotting\n",
    "hap_freq_df = pd.DataFrame(data=arr, index=list(np.unique(hap_pops)), columns=list(sorted(clus_dict.keys())))\n",
    "hap_freq_df['wildtype'] = counts - list(hap_freq_df.sum(axis=1))\n",
    "hap_freq_df['total'] = counts\n",
    "hap_freq_df"
   ]
  },
  {
   "cell_type": "markdown",
   "metadata": {},
   "source": [
    "## build matplotlib pies - use colours from original dendrogram"
   ]
  },
  {
   "cell_type": "code",
   "execution_count": 11,
   "metadata": {
    "collapsed": true
   },
   "outputs": [],
   "source": [
    "#from df make 11 slice pie chart proportions (total = 1) for each country\n",
    "#we need pie colours"
   ]
  },
  {
   "cell_type": "code",
   "execution_count": 27,
   "metadata": {},
   "outputs": [
    {
     "data": {
      "text/plain": [
       "[(0.39901176470588234, 0.14411470588235298, 0.43234411764705882),\n",
       " (0.18138088235294114, 0.18138088235294114, 0.54414264705882354),\n",
       " (0.21667499999999995, 0.45133186274509773, 0.65002500000000007),\n",
       " (0.18334166666666674, 0.50557499999999966, 0.55002499999999999),\n",
       " (0.1614436274509804, 0.48433088235294119, 0.34443872549019638),\n",
       " (0.18463284313725492, 0.55389852941176465, 0.18463284313725492),\n",
       " (0.23954509803921575, 0.71863529411764704, 0.23954509803921575),\n",
       " (0.64442500000000014, 0.733325, 0.24444166666666667),\n",
       " (0.75, 0.64411764705882357, 0.25),\n",
       " (0.75, 0.33823529411764708, 0.25),\n",
       " (0.63236911764705894, 0.21078970588235291, 0.21078970588235291),\n",
       " (0.25, 0.25, 0.25)]"
      ]
     },
     "execution_count": 27,
     "metadata": {},
     "output_type": "execute_result"
    }
   ],
   "source": [
    "highlight_colors = sns.color_palette('spectral', n_colors=11, desat=0.5)\n",
    "#add a final colour for wt - see what this looks like\n",
    "highlight_colors.append((0.250, 0.250, 0.250))\n",
    "#check\n",
    "highlight_colors"
   ]
  },
  {
   "cell_type": "code",
   "execution_count": 28,
   "metadata": {},
   "outputs": [
    {
     "data": {
      "text/html": [
       "<div>\n",
       "<style>\n",
       "    .dataframe thead tr:only-child th {\n",
       "        text-align: right;\n",
       "    }\n",
       "\n",
       "    .dataframe thead th {\n",
       "        text-align: left;\n",
       "    }\n",
       "\n",
       "    .dataframe tbody tr th {\n",
       "        vertical-align: top;\n",
       "    }\n",
       "</style>\n",
       "<table border=\"1\" class=\"dataframe\">\n",
       "  <thead>\n",
       "    <tr style=\"text-align: right;\">\n",
       "      <th></th>\n",
       "      <th>longitude</th>\n",
       "      <th>latitude</th>\n",
       "    </tr>\n",
       "    <tr>\n",
       "      <th>pop</th>\n",
       "      <th></th>\n",
       "      <th></th>\n",
       "    </tr>\n",
       "  </thead>\n",
       "  <tbody>\n",
       "    <tr>\n",
       "      <th>AOM</th>\n",
       "      <td>13.291000</td>\n",
       "      <td>-8.821000</td>\n",
       "    </tr>\n",
       "    <tr>\n",
       "      <th>BFM</th>\n",
       "      <td>-6.413900</td>\n",
       "      <td>15.206500</td>\n",
       "    </tr>\n",
       "    <tr>\n",
       "      <th>BFS</th>\n",
       "      <td>-2.000000</td>\n",
       "      <td>15.206500</td>\n",
       "    </tr>\n",
       "    <tr>\n",
       "      <th>CMS</th>\n",
       "      <td>13.936844</td>\n",
       "      <td>4.937851</td>\n",
       "    </tr>\n",
       "    <tr>\n",
       "      <th>GAS</th>\n",
       "      <td>9.455000</td>\n",
       "      <td>0.384000</td>\n",
       "    </tr>\n",
       "    <tr>\n",
       "      <th>GNS</th>\n",
       "      <td>-9.675065</td>\n",
       "      <td>8.887097</td>\n",
       "    </tr>\n",
       "    <tr>\n",
       "      <th>GWA</th>\n",
       "      <td>-15.582000</td>\n",
       "      <td>11.891000</td>\n",
       "    </tr>\n",
       "    <tr>\n",
       "      <th>KES</th>\n",
       "      <td>39.824614</td>\n",
       "      <td>-3.702068</td>\n",
       "    </tr>\n",
       "    <tr>\n",
       "      <th>UGS</th>\n",
       "      <td>34.026000</td>\n",
       "      <td>0.770000</td>\n",
       "    </tr>\n",
       "  </tbody>\n",
       "</table>\n",
       "</div>"
      ],
      "text/plain": [
       "     longitude   latitude\n",
       "pop                      \n",
       "AOM  13.291000  -8.821000\n",
       "BFM  -6.413900  15.206500\n",
       "BFS  -2.000000  15.206500\n",
       "CMS  13.936844   4.937851\n",
       "GAS   9.455000   0.384000\n",
       "GNS  -9.675065   8.887097\n",
       "GWA -15.582000  11.891000\n",
       "KES  39.824614  -3.702068\n",
       "UGS  34.026000   0.770000"
      ]
     },
     "execution_count": 28,
     "metadata": {},
     "output_type": "execute_result"
    }
   ],
   "source": [
    "df_lonlat"
   ]
  },
  {
   "cell_type": "code",
   "execution_count": 29,
   "metadata": {},
   "outputs": [
    {
     "data": {
      "text/html": [
       "<div>\n",
       "<style>\n",
       "    .dataframe thead tr:only-child th {\n",
       "        text-align: right;\n",
       "    }\n",
       "\n",
       "    .dataframe thead th {\n",
       "        text-align: left;\n",
       "    }\n",
       "\n",
       "    .dataframe tbody tr th {\n",
       "        vertical-align: top;\n",
       "    }\n",
       "</style>\n",
       "<table border=\"1\" class=\"dataframe\">\n",
       "  <thead>\n",
       "    <tr style=\"text-align: right;\">\n",
       "      <th></th>\n",
       "      <th>longitude</th>\n",
       "      <th>latitude</th>\n",
       "    </tr>\n",
       "    <tr>\n",
       "      <th>pop</th>\n",
       "      <th></th>\n",
       "      <th></th>\n",
       "    </tr>\n",
       "  </thead>\n",
       "  <tbody>\n",
       "    <tr>\n",
       "      <th>AOM</th>\n",
       "      <td>13.291000</td>\n",
       "      <td>-8.821000</td>\n",
       "    </tr>\n",
       "    <tr>\n",
       "      <th>BFM</th>\n",
       "      <td>-6.413900</td>\n",
       "      <td>15.206500</td>\n",
       "    </tr>\n",
       "    <tr>\n",
       "      <th>BFS</th>\n",
       "      <td>-2.000000</td>\n",
       "      <td>15.206500</td>\n",
       "    </tr>\n",
       "    <tr>\n",
       "      <th>CMS</th>\n",
       "      <td>13.936844</td>\n",
       "      <td>4.937851</td>\n",
       "    </tr>\n",
       "    <tr>\n",
       "      <th>GAS</th>\n",
       "      <td>9.455000</td>\n",
       "      <td>0.384000</td>\n",
       "    </tr>\n",
       "    <tr>\n",
       "      <th>GNS</th>\n",
       "      <td>-9.675065</td>\n",
       "      <td>8.887097</td>\n",
       "    </tr>\n",
       "    <tr>\n",
       "      <th>GWA</th>\n",
       "      <td>-15.582000</td>\n",
       "      <td>11.891000</td>\n",
       "    </tr>\n",
       "    <tr>\n",
       "      <th>KES</th>\n",
       "      <td>39.824614</td>\n",
       "      <td>-3.702068</td>\n",
       "    </tr>\n",
       "    <tr>\n",
       "      <th>UGS</th>\n",
       "      <td>34.026000</td>\n",
       "      <td>0.770000</td>\n",
       "    </tr>\n",
       "  </tbody>\n",
       "</table>\n",
       "</div>"
      ],
      "text/plain": [
       "     longitude   latitude\n",
       "pop                      \n",
       "AOM  13.291000  -8.821000\n",
       "BFM  -6.413900  15.206500\n",
       "BFS  -2.000000  15.206500\n",
       "CMS  13.936844   4.937851\n",
       "GAS   9.455000   0.384000\n",
       "GNS  -9.675065   8.887097\n",
       "GWA -15.582000  11.891000\n",
       "KES  39.824614  -3.702068\n",
       "UGS  34.026000   0.770000"
      ]
     },
     "execution_count": 29,
     "metadata": {},
     "output_type": "execute_result"
    }
   ],
   "source": [
    "#wiggle BFM and BFS lom/lat about so we can see both\n",
    "df_lonlat = pd.DataFrame()\n",
    "df_lonlat['pop'] = ['AOM', 'BFM', 'BFS', 'CMS', 'GAS', 'GNS', 'GWA', 'KES', 'UGS']\n",
    "df_lonlat['longitude'] = [13.291000, -6.413900, -2, 13.936844, 9.455000, -9.675065, -15.582000, 39.824614, 34.026000]\n",
    "df_lonlat['latitude'] = [-8.821000, 15.206500, 15.206500, 4.937851, 0.384000, 8.887097, 11.891000, -3.702068, 0.770000]\n",
    "df_lonlat = df_lonlat.set_index('pop')\n",
    "df_lonlat"
   ]
  },
  {
   "cell_type": "code",
   "execution_count": 30,
   "metadata": {
    "collapsed": true
   },
   "outputs": [],
   "source": [
    "#for legend\n",
    "kdr_colors = {\n",
    "    'F1': highlight_colors[0],\n",
    "    'F2': highlight_colors[1],\n",
    "    'F3': highlight_colors[2],\n",
    "    'F4': highlight_colors[3],\n",
    "    'F5': highlight_colors[4],\n",
    "    'L1': highlight_colors[5],\n",
    "    'L2': highlight_colors[6],\n",
    "    'S1': highlight_colors[7],\n",
    "    'S2': highlight_colors[8],\n",
    "    'S3': highlight_colors[9],\n",
    "    'S4/5': highlight_colors[10],\n",
    "    'wt': highlight_colors[11]\n",
    "}"
   ]
  },
  {
   "cell_type": "code",
   "execution_count": 31,
   "metadata": {
    "scrolled": true
   },
   "outputs": [
    {
     "data": {
      "image/png": "[encoded data removed]",
      "text/plain": [
       "<matplotlib.figure.Figure at 0x7fad341f2a58>"
      ]
     },
     "metadata": {},
     "output_type": "display_data"
    }
   ],
   "source": [
    "#our frame\n",
    "extent_lonlat = (-20, 45, -13, 20)\n",
    "\n",
    "#plot\n",
    "subplot_kw = dict(projection=crs_lonlat)\n",
    "fig, ax = plt.subplots(figsize=(14, 14), subplot_kw=subplot_kw)\n",
    "ax.coastlines(resolution='50m', linewidth=.2, zorder=1)\n",
    "ax.stock_img()\n",
    "ax.add_feature(cfeature.BORDERS, lw=.6, zorder=4)\n",
    "ax.add_feature(cfeature.LAKES)\n",
    "#ax.margins(0)\n",
    "\n",
    "#add pies\n",
    "for pop, row in df_lonlat.iterrows():\n",
    "    #ax.add_patch(plt.Circle((row.longitude, row.latitude), radius=5, color='k'))\n",
    "    freqs = hap_freq_df.loc[pop]\n",
    "    ratios = np.asarray([freqs[i]/freqs[12] for i in range(12)])\n",
    "    #wedgeprops is used here just to pass the zorder command\n",
    "    ax.pie(ratios, wedgeprops=dict(zorder=5),  colors=highlight_colors, center=(row.longitude, row.latitude), radius=np.sqrt(hap_freq_df.loc[pop][12] * .02))\n",
    "    \n",
    "    \n",
    "\n",
    "ax.set_extent(extent_lonlat, crs=crs_lonlat)\n",
    "\n",
    "#add lines to BF orgin lonlat\n",
    "ax.plot([-4.413900, -6.413900], [11.206500, 15.206500], 'k-', linewidth=2)\n",
    "ax.plot([-4.413900, -2], [11.206500, 15.206500], 'k-', linewidth=2)\n",
    "\n",
    "#legend\n",
    "handles = [mpl.patches.Patch(facecolor=v, edgecolor='k', label=k) for k, v in sorted(kdr_colors.items())]\n",
    "ax.legend(handles=handles, loc='lower left', prop={'size':14})\n",
    "\n",
    "#save\n",
    "fn = '../artwork/Figure_1b_Map.jpeg'\n",
    "fig.savefig(fn, jpeg_quality=100, dpi=300, bbox_inches='tight');\n",
    "\n",
    "#save\n",
    "fn = '../artwork/Figure_1b_Map.svg'\n",
    "fig.savefig(fn, bbox_inches='tight')"
   ]
  },
  {
   "cell_type": "markdown",
   "metadata": {},
   "source": [
    "# TO DO\n",
    "- use t_hat distributions to infer direction of movement - arrows? - remember one pop is much older..."
   ]
  }
 ],
 "metadata": {
  "kernelspec": {
   "display_name": "Python 3",
   "language": "python",
   "name": "python3"
  },
  "language_info": {
   "codemirror_mode": {
    "name": "ipython",
    "version": 3
   },
   "file_extension": ".py",
   "mimetype": "text/x-python",
   "name": "python",
   "nbconvert_exporter": "python",
   "pygments_lexer": "ipython3",
   "version": "3.5.3"
  }
 },
 "nbformat": 4,
 "nbformat_minor": 2
}
