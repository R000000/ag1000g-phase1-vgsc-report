{
 "cells": [
  {
   "cell_type": "markdown",
   "metadata": {},
   "source": [
    "# Pairwise LD for functional SNPs\n",
    "\n",
    "This notebook computes and plots pairwise LD between interesting functional SNPs."
   ]
  },
  {
   "cell_type": "markdown",
   "metadata": {},
   "source": [
    "## Setup"
   ]
  },
  {
   "cell_type": "code",
   "execution_count": 1,
   "metadata": {},
   "outputs": [
    {
     "data": {
      "text/html": [
       "<style type=\"text/css\">\n",
       ".container {\n",
       "    width: 100%;\n",
       "}\n",
       "div#notebook {\n",
       "    padding-top: 1em;\n",
       "}\n",
       "#header-container {\n",
       "    display: none;\n",
       "}\n",
       "#header-bar {\n",
       "    display: none;\n",
       "}\n",
       "#maintoolbar {\n",
       "    display: none;\n",
       "}\n",
       "#menubar-container {\n",
       "    position: fixed;\n",
       "    margin-top: 0;\n",
       "}\n",
       "#site {\n",
       "    height: auto !important;\n",
       "}\n",
       "</style>"
      ],
      "text/plain": [
       "<IPython.core.display.HTML object>"
      ]
     },
     "metadata": {},
     "output_type": "display_data"
    }
   ],
   "source": [
    "%run setup.ipynb\n",
    "%matplotlib inline"
   ]
  },
  {
   "cell_type": "code",
   "execution_count": 2,
   "metadata": {},
   "outputs": [
    {
     "data": {
      "text/plain": [
       "23"
      ]
     },
     "execution_count": 2,
     "metadata": {},
     "output_type": "execute_result"
    }
   ],
   "source": [
    "# load in selected missense variants\n",
    "tbl_variants_selected = etl.frompickle('../data/tbl_variants_missense_selected.pkl')\n",
    "tbl_variants_selected.nrows()"
   ]
  },
  {
   "cell_type": "code",
   "execution_count": 3,
   "metadata": {},
   "outputs": [
    {
     "data": {
      "text/plain": [
       "((341998,), (341998, 1530))"
      ]
     },
     "execution_count": 3,
     "metadata": {},
     "output_type": "execute_result"
    }
   ],
   "source": [
    "# load in haplotypes\n",
    "callset_haps = np.load('../data/haps_phase1.npz')\n",
    "haps = allel.HaplotypeArray(callset_haps['haplotypes'])\n",
    "pos = allel.SortedIndex(callset_haps['POS'])\n",
    "pos.shape, haps.shape"
   ]
  },
  {
   "cell_type": "code",
   "execution_count": 4,
   "metadata": {
    "collapsed": true
   },
   "outputs": [],
   "source": [
    "def lewontin_d_prime(h, i, j, a=1, b=1):\n",
    "    \"\"\"Compute LD between a pair of alleles.\n",
    "    \n",
    "    Parameters\n",
    "    ----------\n",
    "    h : array\n",
    "        Haplotype array.\n",
    "    i : int\n",
    "        First variant index.\n",
    "    j : int\n",
    "        Second variant index.\n",
    "    a : int\n",
    "        First variant allele.\n",
    "    b : int\n",
    "        Second variant allele.\n",
    "    \n",
    "    Returns\n",
    "    -------\n",
    "    ld : float\n",
    "    \n",
    "    \"\"\"\n",
    "    \n",
    "    # setup\n",
    "    h = allel.HaplotypeArray(h)\n",
    "    n_a = n_b = 0  # allele counts\n",
    "    n_ab = 0  # haplotype counts\n",
    "    n = 0  # allele number (i.e., number of calls)\n",
    "    \n",
    "    # iterate over haplotypes, counting alleles and haplotypes\n",
    "    for k in range(h.n_haplotypes):\n",
    "        \n",
    "        # access alleles\n",
    "        allele_ik = h[i, k]\n",
    "        allele_jk = h[j, k]\n",
    "        \n",
    "        # only count if allele non-missing at both sites\n",
    "        if allele_ik < 0 or allele_jk < 0:\n",
    "            continue\n",
    "            \n",
    "        # accumulate\n",
    "        if allele_ik == a:\n",
    "            n_a += 1\n",
    "        if allele_jk == b:\n",
    "            n_b += 1\n",
    "        if allele_ik == a and allele_jk == b:\n",
    "            n_ab += 1\n",
    "        n += 1\n",
    "        \n",
    "#     log('D_prime counts:', 'i', i, 'j', j, 'a', a, 'b', b, 'n', n, 'n_a', n_a, 'n_b', n_b)\n",
    "        \n",
    "    # bail out if no data or either allele is absent or fixed\n",
    "    if n == 0 or n_a == 0 or n_b == 0 or n == n_a or n == n_b:\n",
    "        return None\n",
    "    \n",
    "    # N.B., compute D prime using counts rather than frequencies to avoid floating-point errors\n",
    "    # N.B., preserve the sign of D prime to retain information about linkage versus repulsion\n",
    "    \n",
    "    # compute coefficient of linkage disequilibrium * n**2\n",
    "    D_ab = (n * n_ab) - (n_a * n_b)\n",
    "    \n",
    "    # compute normalisation coefficient * n**2\n",
    "    if D_ab >= 0:\n",
    "        D_max = min(n_a * (n - n_b), (n - n_a) * n_b)\n",
    "    else:\n",
    "        D_max = min(n_a * n_b, (n - n_a) * (n - n_b))\n",
    "\n",
    "    # compute D prime\n",
    "    D_prime = D_ab / D_max\n",
    "    \n",
    "#     log('D_prime', D_prime, i, j, a, b, n, n_a, n_b, D_ab, D_max)\n",
    "#     if np.isnan(D_prime):\n",
    "#         log('nan')\n",
    "#        log(D_prime, i, j, a, b, n, n_a, n_b, D_ab, D_max)\n",
    "        \n",
    "    return D_prime\n"
   ]
  },
  {
   "cell_type": "code",
   "execution_count": 5,
   "metadata": {
    "scrolled": true
   },
   "outputs": [
    {
     "data": {
      "text/html": [
       "<div class=\"allel allel-DisplayAs1D\"><span>&lt;SortedIndex shape=(21,) dtype=int32&gt;</span><table><thead><tr><th style=\"text-align: center\">0</th><th style=\"text-align: center\">1</th><th style=\"text-align: center\">2</th><th style=\"text-align: center\">3</th><th style=\"text-align: center\">4</th><th style=\"text-align: center\">...</th><th style=\"text-align: center\">16</th><th style=\"text-align: center\">17</th><th style=\"text-align: center\">18</th><th style=\"text-align: center\">19</th><th style=\"text-align: center\">20</th></tr></thead><tbody><tr><td style=\"text-align: center\">2390177</td><td style=\"text-align: center\">2391228</td><td style=\"text-align: center\">2399997</td><td style=\"text-align: center\">2400071</td><td style=\"text-align: center\">2416980</td><td style=\"text-align: center\">...</td><td style=\"text-align: center\">2430880</td><td style=\"text-align: center\">2430881</td><td style=\"text-align: center\">2431019</td><td style=\"text-align: center\">2431061</td><td style=\"text-align: center\">2431079</td></tr></tbody></table></div>"
      ],
      "text/plain": [
       "<SortedIndex shape=(21,) dtype=int32>\n",
       "[2390177, 2391228, 2399997, 2400071, 2416980, ..., 2430880, 2430881, 2431019, 2431061, 2431079]"
      ]
     },
     "execution_count": 5,
     "metadata": {},
     "output_type": "execute_result"
    }
   ],
   "source": [
    "pos_selected = allel.SortedIndex(sorted(tbl_variants_selected.values('POS').set()))\n",
    "pos_selected"
   ]
  },
  {
   "cell_type": "code",
   "execution_count": 6,
   "metadata": {},
   "outputs": [
    {
     "data": {
      "text/html": [
       "<table class='petl'>\n",
       "<thead>\n",
       "<tr>\n",
       "<th>0|CHROM</th>\n",
       "<th>1|POS</th>\n",
       "<th>2|num_alleles</th>\n",
       "<th>3|REF</th>\n",
       "<th>4|ALT</th>\n",
       "<th>5|AC</th>\n",
       "<th>6|ALTIX</th>\n",
       "<th>7|FILTER_PASS</th>\n",
       "<th>8|NoCoverage</th>\n",
       "<th>9|LowCoverage</th>\n",
       "<th>10|HighCoverage</th>\n",
       "<th>11|LowMQ</th>\n",
       "<th>12|HighMQ0</th>\n",
       "<th>13|RepeatDUST</th>\n",
       "<th>14|RepeatMasker</th>\n",
       "<th>15|RepeatTRF</th>\n",
       "<th>16|FS</th>\n",
       "<th>17|HRun</th>\n",
       "<th>18|QD</th>\n",
       "<th>19|ReadPosRankSum</th>\n",
       "<th>20|SNPEFF_Allele</th>\n",
       "<th>21|SNPEFF_Annotation</th>\n",
       "<th>22|SNPEFF_HGVS_c</th>\n",
       "<th>23|SNPEFF_HGVS_p</th>\n",
       "<th>24|SNPEFF_Feature_ID</th>\n",
       "<th>25|AF_AOM</th>\n",
       "<th>26|AF_BFM</th>\n",
       "<th>27|AF_GWA</th>\n",
       "<th>28|AF_GNS</th>\n",
       "<th>29|AF_BFS</th>\n",
       "<th>30|AF_CMS</th>\n",
       "<th>31|AF_GAS</th>\n",
       "<th>32|AF_UGS</th>\n",
       "<th>33|AF_KES</th>\n",
       "<th>34|check_allele</th>\n",
       "<th>35|exon_start</th>\n",
       "<th>36|exon_end</th>\n",
       "<th>37|exon</th>\n",
       "<th>38|AGAP004707-RA</th>\n",
       "<th>39|AGAP004707-RB</th>\n",
       "<th>40|AGAP004707-RC</th>\n",
       "<th>41|Davies-C1N2</th>\n",
       "<th>42|Davies-C3N2</th>\n",
       "<th>43|Davies-C5N2</th>\n",
       "<th>44|Davies-C7N2</th>\n",
       "<th>45|Davies-C8N2</th>\n",
       "<th>46|Davies-C10N2</th>\n",
       "<th>47|Davies-C11N2</th>\n",
       "<th>48|Davies-C1N9</th>\n",
       "<th>49|Davies-C8N9</th>\n",
       "<th>50|Davies-C1N9ck</th>\n",
       "<th>51|haps_vidx</th>\n",
       "<th>52|dprime_L995S</th>\n",
       "<th>53|dprime_L995F</th>\n",
       "</tr>\n",
       "</thead>\n",
       "<tbody>\n",
       "<tr>\n",
       "<td>2L</td>\n",
       "<td>2390177</td>\n",
       "<td>2</td>\n",
       "<td>G</td>\n",
       "<td>A</td>\n",
       "<td>198</td>\n",
       "<td style='text-align: right'>0</td>\n",
       "<td>True</td>\n",
       "<td>0</td>\n",
       "<td>3</td>\n",
       "<td>8</td>\n",
       "<td>0</td>\n",
       "<td>0</td>\n",
       "<td>False</td>\n",
       "<td>False</td>\n",
       "<td>False</td>\n",
       "<td>0.12695</td>\n",
       "<td>1</td>\n",
       "<td>18.625</td>\n",
       "<td>0.83496</td>\n",
       "<td>A</td>\n",
       "<td>missense_variant</td>\n",
       "<td>n.761G>A</td>\n",
       "<td>p.Arg254Lys</td>\n",
       "<td>AGAP004707-RA</td>\n",
       "<td style='text-align: right'>0.0</td>\n",
       "<td style='text-align: right'>0.0</td>\n",
       "<td style='text-align: right'>0.0</td>\n",
       "<td style='text-align: right'>0.0</td>\n",
       "<td style='text-align: right'>0.0</td>\n",
       "<td style='text-align: right'>0.316363636364</td>\n",
       "<td style='text-align: right'>0.214285714286</td>\n",
       "<td style='text-align: right'>0.0</td>\n",
       "<td style='text-align: right'>0.0</td>\n",
       "<td>True</td>\n",
       "<td style='text-align: right'>2390129</td>\n",
       "<td style='text-align: right'>2390341</td>\n",
       "<td>7</td>\n",
       "<td>R254K</td>\n",
       "<td>R254K</td>\n",
       "<td>R254K</td>\n",
       "<td>R260K</td>\n",
       "<td>R217K</td>\n",
       "<td>R260K</td>\n",
       "<td>R260K</td>\n",
       "<td>R271K</td>\n",
       "<td>R260K</td>\n",
       "<td>R260K</td>\n",
       "<td>R260K</td>\n",
       "<td>R271K</td>\n",
       "<td>R260K</td>\n",
       "<td style='text-align: right'>817</td>\n",
       "<td style='text-align: right'>-0.9640591966173362</td>\n",
       "<td style='text-align: right'>0.9181216134858519</td>\n",
       "</tr>\n",
       "<tr>\n",
       "<td>2L</td>\n",
       "<td>2391228</td>\n",
       "<td>3</td>\n",
       "<td>G</td>\n",
       "<td>C</td>\n",
       "<td>10</td>\n",
       "<td style='text-align: right'>0</td>\n",
       "<td>True</td>\n",
       "<td>0</td>\n",
       "<td>0</td>\n",
       "<td>12</td>\n",
       "<td>0</td>\n",
       "<td>0</td>\n",
       "<td>False</td>\n",
       "<td>False</td>\n",
       "<td>False</td>\n",
       "<td>2.0352</td>\n",
       "<td>0</td>\n",
       "<td>14.867</td>\n",
       "<td>-1.1777</td>\n",
       "<td>C</td>\n",
       "<td>missense_variant</td>\n",
       "<td>n.1204G>C</td>\n",
       "<td>p.Val402Leu</td>\n",
       "<td>AGAP004707-RA</td>\n",
       "<td style='text-align: right'>0.0</td>\n",
       "<td style='text-align: right'>0.0724637681159</td>\n",
       "<td style='text-align: right'>0.0</td>\n",
       "<td style='text-align: right'>0.0</td>\n",
       "<td style='text-align: right'>0.0</td>\n",
       "<td style='text-align: right'>0.0</td>\n",
       "<td style='text-align: right'>0.0</td>\n",
       "<td style='text-align: right'>0.0</td>\n",
       "<td style='text-align: right'>0.0</td>\n",
       "<td>True</td>\n",
       "<td style='text-align: right'>2391156</td>\n",
       "<td style='text-align: right'>2391320</td>\n",
       "<td>10</td>\n",
       "<td>V402L</td>\n",
       "<td>V402L</td>\n",
       "<td>V402L</td>\n",
       "<td>V408L</td>\n",
       "<td>V365L</td>\n",
       "<td></td>\n",
       "<td>V408L</td>\n",
       "<td>V419L</td>\n",
       "<td>V408L</td>\n",
       "<td>V408L</td>\n",
       "<td>V408L</td>\n",
       "<td>V419L</td>\n",
       "<td>V408L</td>\n",
       "<td style='text-align: right'>838</td>\n",
       "<td style='text-align: right'>-1.0</td>\n",
       "<td style='text-align: right'>-0.8025806451612904</td>\n",
       "</tr>\n",
       "<tr>\n",
       "<td>2L</td>\n",
       "<td>2391228</td>\n",
       "<td>3</td>\n",
       "<td>G</td>\n",
       "<td>T</td>\n",
       "<td>9</td>\n",
       "<td style='text-align: right'>1</td>\n",
       "<td>True</td>\n",
       "<td>0</td>\n",
       "<td>0</td>\n",
       "<td>12</td>\n",
       "<td>0</td>\n",
       "<td>0</td>\n",
       "<td>False</td>\n",
       "<td>False</td>\n",
       "<td>False</td>\n",
       "<td>2.0352</td>\n",
       "<td>0</td>\n",
       "<td>14.867</td>\n",
       "<td>-1.1777</td>\n",
       "<td>None</td>\n",
       "<td>None</td>\n",
       "<td>None</td>\n",
       "<td>None</td>\n",
       "<td>None</td>\n",
       "<td style='text-align: right'>0.0</td>\n",
       "<td style='text-align: right'>0.0652173913043</td>\n",
       "<td style='text-align: right'>0.0</td>\n",
       "<td style='text-align: right'>0.0</td>\n",
       "<td style='text-align: right'>0.0</td>\n",
       "<td style='text-align: right'>0.0</td>\n",
       "<td style='text-align: right'>0.0</td>\n",
       "<td style='text-align: right'>0.0</td>\n",
       "<td style='text-align: right'>0.0</td>\n",
       "<td>True</td>\n",
       "<td style='text-align: right'>2391156</td>\n",
       "<td style='text-align: right'>2391320</td>\n",
       "<td>10</td>\n",
       "<td>V402L</td>\n",
       "<td>V402L</td>\n",
       "<td>V402L</td>\n",
       "<td>V408L</td>\n",
       "<td>V365L</td>\n",
       "<td></td>\n",
       "<td>V408L</td>\n",
       "<td>V419L</td>\n",
       "<td>V408L</td>\n",
       "<td>V408L</td>\n",
       "<td>V408L</td>\n",
       "<td>V419L</td>\n",
       "<td>V408L</td>\n",
       "<td style='text-align: right'>838</td>\n",
       "<td style='text-align: right'>-1.0</td>\n",
       "<td style='text-align: right'>-1.0</td>\n",
       "</tr>\n",
       "<tr>\n",
       "<td>2L</td>\n",
       "<td>2399997</td>\n",
       "<td>2</td>\n",
       "<td>G</td>\n",
       "<td>C</td>\n",
       "<td>38</td>\n",
       "<td style='text-align: right'>0</td>\n",
       "<td>True</td>\n",
       "<td>0</td>\n",
       "<td>1</td>\n",
       "<td>7</td>\n",
       "<td>0</td>\n",
       "<td>0</td>\n",
       "<td>False</td>\n",
       "<td>False</td>\n",
       "<td>False</td>\n",
       "<td>13.359</td>\n",
       "<td>0</td>\n",
       "<td>15.688</td>\n",
       "<td>0.11798</td>\n",
       "<td>C</td>\n",
       "<td>missense_variant</td>\n",
       "<td>n.1396G>C</td>\n",
       "<td>p.Asp466His</td>\n",
       "<td>AGAP004707-RA</td>\n",
       "<td style='text-align: right'>0.0</td>\n",
       "<td style='text-align: right'>0.0</td>\n",
       "<td style='text-align: right'>0.0</td>\n",
       "<td style='text-align: right'>0.0</td>\n",
       "<td style='text-align: right'>0.0</td>\n",
       "<td style='text-align: right'>0.0690909090909</td>\n",
       "<td style='text-align: right'>0.0</td>\n",
       "<td style='text-align: right'>0.0</td>\n",
       "<td style='text-align: right'>0.0</td>\n",
       "<td>True</td>\n",
       "<td style='text-align: right'>2399898</td>\n",
       "<td style='text-align: right'>2400173</td>\n",
       "<td>11i+</td>\n",
       "<td>D466H</td>\n",
       "<td>D466H</td>\n",
       "<td>D466H</td>\n",
       "<td>D472H</td>\n",
       "<td>D429H</td>\n",
       "<td>D417H</td>\n",
       "<td>D472H</td>\n",
       "<td>D483H</td>\n",
       "<td>D472H</td>\n",
       "<td>D472H</td>\n",
       "<td>D472H</td>\n",
       "<td>D483H</td>\n",
       "<td>D472H</td>\n",
       "<td style='text-align: right'>1080</td>\n",
       "<td style='text-align: right'>-1.0</td>\n",
       "<td style='text-align: right'>1.0</td>\n",
       "</tr>\n",
       "<tr>\n",
       "<td>2L</td>\n",
       "<td>2400071</td>\n",
       "<td>3</td>\n",
       "<td>G</td>\n",
       "<td>A</td>\n",
       "<td>16</td>\n",
       "<td style='text-align: right'>0</td>\n",
       "<td>True</td>\n",
       "<td>0</td>\n",
       "<td>0</td>\n",
       "<td>8</td>\n",
       "<td>0</td>\n",
       "<td>0</td>\n",
       "<td>False</td>\n",
       "<td>False</td>\n",
       "<td>False</td>\n",
       "<td>5.6875</td>\n",
       "<td>0</td>\n",
       "<td>16.969</td>\n",
       "<td>1.3232</td>\n",
       "<td>A</td>\n",
       "<td>missense_variant</td>\n",
       "<td>n.1470G>A</td>\n",
       "<td>p.Met490Ile</td>\n",
       "<td>AGAP004707-RA</td>\n",
       "<td style='text-align: right'>0.0</td>\n",
       "<td style='text-align: right'>0.0</td>\n",
       "<td style='text-align: right'>0.0</td>\n",
       "<td style='text-align: right'>0.0</td>\n",
       "<td style='text-align: right'>0.0</td>\n",
       "<td style='text-align: right'>0.0</td>\n",
       "<td style='text-align: right'>0.0</td>\n",
       "<td style='text-align: right'>0.0</td>\n",
       "<td style='text-align: right'>0.181818181818</td>\n",
       "<td>True</td>\n",
       "<td style='text-align: right'>2399898</td>\n",
       "<td style='text-align: right'>2400173</td>\n",
       "<td>11i+</td>\n",
       "<td>M490I</td>\n",
       "<td>M490I</td>\n",
       "<td>M490I</td>\n",
       "<td>M496I</td>\n",
       "<td>M453I</td>\n",
       "<td>M441I</td>\n",
       "<td>M496I</td>\n",
       "<td>M507I</td>\n",
       "<td>M496I</td>\n",
       "<td>M496I</td>\n",
       "<td>M496I</td>\n",
       "<td>M507I</td>\n",
       "<td>M496I</td>\n",
       "<td style='text-align: right'>1083</td>\n",
       "<td style='text-align: right'>-1.0</td>\n",
       "<td style='text-align: right'>-1.0</td>\n",
       "</tr>\n",
       "</tbody>\n",
       "</table>\n",
       "<p><strong>...</strong></p>"
      ],
      "text/plain": [
       "+-------+---------+-------------+-----+-----+-----+-------+-------------+------------+-------------+--------------+-------+---------+------------+--------------+-----------+---------+------+--------+----------------+---------------+--------------------+---------------+---------------+-------------------+--------+----------------------+--------+--------+--------+----------------------+---------------------+--------+---------------------+--------------+------------+----------+--------+---------------+---------------+---------------+-------------+-------------+-------------+-------------+-------------+--------------+--------------+-------------+-------------+---------------+-----------+---------------------+---------------------+\n",
       "| CHROM | POS     | num_alleles | REF | ALT | AC  | ALTIX | FILTER_PASS | NoCoverage | LowCoverage | HighCoverage | LowMQ | HighMQ0 | RepeatDUST | RepeatMasker | RepeatTRF | FS      | HRun | QD     | ReadPosRankSum | SNPEFF_Allele | SNPEFF_Annotation  | SNPEFF_HGVS_c | SNPEFF_HGVS_p | SNPEFF_Feature_ID | AF_AOM | AF_BFM               | AF_GWA | AF_GNS | AF_BFS | AF_CMS               | AF_GAS              | AF_UGS | AF_KES              | check_allele | exon_start | exon_end | exon   | AGAP004707-RA | AGAP004707-RB | AGAP004707-RC | Davies-C1N2 | Davies-C3N2 | Davies-C5N2 | Davies-C7N2 | Davies-C8N2 | Davies-C10N2 | Davies-C11N2 | Davies-C1N9 | Davies-C8N9 | Davies-C1N9ck | haps_vidx | dprime_L995S        | dprime_L995F        |\n",
       "+=======+=========+=============+=====+=====+=====+=======+=============+============+=============+==============+=======+=========+============+==============+===========+=========+======+========+================+===============+====================+===============+===============+===================+========+======================+========+========+========+======================+=====================+========+=====================+==============+============+==========+========+===============+===============+===============+=============+=============+=============+=============+=============+==============+==============+=============+=============+===============+===========+=====================+=====================+\n",
       "| '2L'  | 2390177 | 2           | 'G' | 'A' | 198 |     0 | True        | 0          | 3           | 8            | 0     | 0       | False      | False        | False     | 0.12695 | 1    | 18.625 | 0.83496        | 'A'           | 'missense_variant' | 'n.761G>A'    | 'p.Arg254Lys' | 'AGAP004707-RA'   |    0.0 |                  0.0 |    0.0 |    0.0 |    0.0 |  0.31636363636363635 | 0.21428571428571427 |    0.0 |                 0.0 | True         |    2390129 |  2390341 | '7'    | 'R254K'       | 'R254K'       | 'R254K'       | 'R260K'     | 'R217K'     | 'R260K'     | 'R260K'     | 'R271K'     | 'R260K'      | 'R260K'      | 'R260K'     | 'R271K'     | 'R260K'       |       817 | -0.9640591966173362 |  0.9181216134858519 |\n",
       "+-------+---------+-------------+-----+-----+-----+-------+-------------+------------+-------------+--------------+-------+---------+------------+--------------+-----------+---------+------+--------+----------------+---------------+--------------------+---------------+---------------+-------------------+--------+----------------------+--------+--------+--------+----------------------+---------------------+--------+---------------------+--------------+------------+----------+--------+---------------+---------------+---------------+-------------+-------------+-------------+-------------+-------------+--------------+--------------+-------------+-------------+---------------+-----------+---------------------+---------------------+\n",
       "| '2L'  | 2391228 | 3           | 'G' | 'C' | 10  |     0 | True        | 0          | 0           | 12           | 0     | 0       | False      | False        | False     | 2.0352  | 0    | 14.867 | -1.1777        | 'C'           | 'missense_variant' | 'n.1204G>C'   | 'p.Val402Leu' | 'AGAP004707-RA'   |    0.0 | 0.072463768115942032 |    0.0 |    0.0 |    0.0 |                  0.0 |                 0.0 |    0.0 |                 0.0 | True         |    2391156 |  2391320 | '10'   | 'V402L'       | 'V402L'       | 'V402L'       | 'V408L'     | 'V365L'     | ''          | 'V408L'     | 'V419L'     | 'V408L'      | 'V408L'      | 'V408L'     | 'V419L'     | 'V408L'       |       838 |                -1.0 | -0.8025806451612904 |\n",
       "+-------+---------+-------------+-----+-----+-----+-------+-------------+------------+-------------+--------------+-------+---------+------------+--------------+-----------+---------+------+--------+----------------+---------------+--------------------+---------------+---------------+-------------------+--------+----------------------+--------+--------+--------+----------------------+---------------------+--------+---------------------+--------------+------------+----------+--------+---------------+---------------+---------------+-------------+-------------+-------------+-------------+-------------+--------------+--------------+-------------+-------------+---------------+-----------+---------------------+---------------------+\n",
       "| '2L'  | 2391228 | 3           | 'G' | 'T' | 9   |     1 | True        | 0          | 0           | 12           | 0     | 0       | False      | False        | False     | 2.0352  | 0    | 14.867 | -1.1777        | None          | None               | None          | None          | None              |    0.0 | 0.065217391304347824 |    0.0 |    0.0 |    0.0 |                  0.0 |                 0.0 |    0.0 |                 0.0 | True         |    2391156 |  2391320 | '10'   | 'V402L'       | 'V402L'       | 'V402L'       | 'V408L'     | 'V365L'     | ''          | 'V408L'     | 'V419L'     | 'V408L'      | 'V408L'      | 'V408L'     | 'V419L'     | 'V408L'       |       838 |                -1.0 |                -1.0 |\n",
       "+-------+---------+-------------+-----+-----+-----+-------+-------------+------------+-------------+--------------+-------+---------+------------+--------------+-----------+---------+------+--------+----------------+---------------+--------------------+---------------+---------------+-------------------+--------+----------------------+--------+--------+--------+----------------------+---------------------+--------+---------------------+--------------+------------+----------+--------+---------------+---------------+---------------+-------------+-------------+-------------+-------------+-------------+--------------+--------------+-------------+-------------+---------------+-----------+---------------------+---------------------+\n",
       "| '2L'  | 2399997 | 2           | 'G' | 'C' | 38  |     0 | True        | 0          | 1           | 7            | 0     | 0       | False      | False        | False     | 13.359  | 0    | 15.688 | 0.11798        | 'C'           | 'missense_variant' | 'n.1396G>C'   | 'p.Asp466His' | 'AGAP004707-RA'   |    0.0 |                  0.0 |    0.0 |    0.0 |    0.0 | 0.069090909090909092 |                 0.0 |    0.0 |                 0.0 | True         |    2399898 |  2400173 | '11i+' | 'D466H'       | 'D466H'       | 'D466H'       | 'D472H'     | 'D429H'     | 'D417H'     | 'D472H'     | 'D483H'     | 'D472H'      | 'D472H'      | 'D472H'     | 'D483H'     | 'D472H'       |      1080 |                -1.0 |                 1.0 |\n",
       "+-------+---------+-------------+-----+-----+-----+-------+-------------+------------+-------------+--------------+-------+---------+------------+--------------+-----------+---------+------+--------+----------------+---------------+--------------------+---------------+---------------+-------------------+--------+----------------------+--------+--------+--------+----------------------+---------------------+--------+---------------------+--------------+------------+----------+--------+---------------+---------------+---------------+-------------+-------------+-------------+-------------+-------------+--------------+--------------+-------------+-------------+---------------+-----------+---------------------+---------------------+\n",
       "| '2L'  | 2400071 | 3           | 'G' | 'A' | 16  |     0 | True        | 0          | 0           | 8            | 0     | 0       | False      | False        | False     | 5.6875  | 0    | 16.969 | 1.3232         | 'A'           | 'missense_variant' | 'n.1470G>A'   | 'p.Met490Ile' | 'AGAP004707-RA'   |    0.0 |                  0.0 |    0.0 |    0.0 |    0.0 |                  0.0 |                 0.0 |    0.0 | 0.18181818181818182 | True         |    2399898 |  2400173 | '11i+' | 'M490I'       | 'M490I'       | 'M490I'       | 'M496I'     | 'M453I'     | 'M441I'     | 'M496I'     | 'M507I'     | 'M496I'      | 'M496I'      | 'M496I'     | 'M507I'     | 'M496I'       |      1083 |                -1.0 |                -1.0 |\n",
       "+-------+---------+-------------+-----+-----+-----+-------+-------------+------------+-------------+--------------+-------+---------+------------+--------------+-----------+---------+------+--------+----------------+---------------+--------------------+---------------+---------------+-------------------+--------+----------------------+--------+--------+--------+----------------------+---------------------+--------+---------------------+--------------+------------+----------+--------+---------------+---------------+---------------+-------------+-------------+-------------+-------------+-------------+--------------+--------------+-------------+-------------+---------------+-----------+---------------------+---------------------+\n",
       "..."
      ]
     },
     "execution_count": 6,
     "metadata": {},
     "output_type": "execute_result"
    }
   ],
   "source": [
    "tbl_variants_selected"
   ]
  },
  {
   "cell_type": "code",
   "execution_count": 7,
   "metadata": {},
   "outputs": [
    {
     "data": {
      "text/plain": [
       "(21,)"
      ]
     },
     "execution_count": 7,
     "metadata": {},
     "output_type": "execute_result"
    }
   ],
   "source": [
    "pos_selected.shape"
   ]
  },
  {
   "cell_type": "code",
   "execution_count": 8,
   "metadata": {},
   "outputs": [
    {
     "data": {
      "text/plain": [
       "21"
      ]
     },
     "execution_count": 8,
     "metadata": {},
     "output_type": "execute_result"
    }
   ],
   "source": [
    "loc_selected = pos.locate_keys(pos_selected)\n",
    "np.count_nonzero(loc_selected)"
   ]
  },
  {
   "cell_type": "code",
   "execution_count": 9,
   "metadata": {},
   "outputs": [
    {
     "data": {
      "text/html": [
       "<div class=\"allel allel-DisplayAs2D\"><span>&lt;HaplotypeArray shape=(21, 1530) dtype=int8&gt;</span><table><thead><tr><th></th><th style=\"text-align: center\">0</th><th style=\"text-align: center\">1</th><th style=\"text-align: center\">2</th><th style=\"text-align: center\">3</th><th style=\"text-align: center\">4</th><th style=\"text-align: center\">...</th><th style=\"text-align: center\">1525</th><th style=\"text-align: center\">1526</th><th style=\"text-align: center\">1527</th><th style=\"text-align: center\">1528</th><th style=\"text-align: center\">1529</th></tr></thead><tbody><tr><th style=\"text-align: center; background-color: white; border-right: 1px solid black; \">0</th><td style=\"text-align: center\">0</td><td style=\"text-align: center\">0</td><td style=\"text-align: center\">0</td><td style=\"text-align: center\">0</td><td style=\"text-align: center\">0</td><td style=\"text-align: center\">...</td><td style=\"text-align: center\">0</td><td style=\"text-align: center\">0</td><td style=\"text-align: center\">0</td><td style=\"text-align: center\">0</td><td style=\"text-align: center\">0</td></tr><tr><th style=\"text-align: center; background-color: white; border-right: 1px solid black; \">1</th><td style=\"text-align: center\">0</td><td style=\"text-align: center\">0</td><td style=\"text-align: center\">2</td><td style=\"text-align: center\">0</td><td style=\"text-align: center\">0</td><td style=\"text-align: center\">...</td><td style=\"text-align: center\">0</td><td style=\"text-align: center\">0</td><td style=\"text-align: center\">0</td><td style=\"text-align: center\">0</td><td style=\"text-align: center\">0</td></tr><tr><th style=\"text-align: center; background-color: white; border-right: 1px solid black; \">2</th><td style=\"text-align: center\">0</td><td style=\"text-align: center\">0</td><td style=\"text-align: center\">0</td><td style=\"text-align: center\">0</td><td style=\"text-align: center\">0</td><td style=\"text-align: center\">...</td><td style=\"text-align: center\">0</td><td style=\"text-align: center\">0</td><td style=\"text-align: center\">0</td><td style=\"text-align: center\">0</td><td style=\"text-align: center\">0</td></tr><tr><th style=\"text-align: center; background-color: white; border-right: 1px solid black; \">...</th><td style=\"text-align: center\" colspan=\"12\">...</td></tr><tr><th style=\"text-align: center; background-color: white; border-right: 1px solid black; \">18</th><td style=\"text-align: center\">0</td><td style=\"text-align: center\">0</td><td style=\"text-align: center\">0</td><td style=\"text-align: center\">0</td><td style=\"text-align: center\">0</td><td style=\"text-align: center\">...</td><td style=\"text-align: center\">0</td><td style=\"text-align: center\">0</td><td style=\"text-align: center\">0</td><td style=\"text-align: center\">0</td><td style=\"text-align: center\">0</td></tr><tr><th style=\"text-align: center; background-color: white; border-right: 1px solid black; \">19</th><td style=\"text-align: center\">0</td><td style=\"text-align: center\">0</td><td style=\"text-align: center\">0</td><td style=\"text-align: center\">1</td><td style=\"text-align: center\">0</td><td style=\"text-align: center\">...</td><td style=\"text-align: center\">0</td><td style=\"text-align: center\">0</td><td style=\"text-align: center\">0</td><td style=\"text-align: center\">0</td><td style=\"text-align: center\">0</td></tr><tr><th style=\"text-align: center; background-color: white; border-right: 1px solid black; \">20</th><td style=\"text-align: center\">0</td><td style=\"text-align: center\">0</td><td style=\"text-align: center\">0</td><td style=\"text-align: center\">0</td><td style=\"text-align: center\">0</td><td style=\"text-align: center\">...</td><td style=\"text-align: center\">0</td><td style=\"text-align: center\">0</td><td style=\"text-align: center\">0</td><td style=\"text-align: center\">0</td><td style=\"text-align: center\">0</td></tr></tbody></table></div>"
      ],
      "text/plain": [
       "<HaplotypeArray shape=(21, 1530) dtype=int8>\n",
       "0 0 0 0 0 ... 0 0 0 0 0\n",
       "0 0 2 0 0 ... 0 0 0 0 0\n",
       "0 0 0 0 0 ... 0 0 0 0 0\n",
       "...\n",
       "0 0 0 0 0 ... 0 0 0 0 0\n",
       "0 0 0 1 0 ... 0 0 0 0 0\n",
       "0 0 0 0 0 ... 0 0 0 0 0"
      ]
     },
     "execution_count": 9,
     "metadata": {},
     "output_type": "execute_result"
    }
   ],
   "source": [
    "haps_selected = haps[loc_selected]\n",
    "haps_selected"
   ]
  },
  {
   "cell_type": "code",
   "execution_count": 10,
   "metadata": {},
   "outputs": [
    {
     "data": {
      "text/html": [
       "<div class=\"allel allel-DisplayAs2D\"><span>&lt;AlleleCountsArray shape=(21, 3) dtype=int32&gt;</span><table><thead><tr><th></th><th style=\"text-align: center\">0</th><th style=\"text-align: center\">1</th><th style=\"text-align: center\">2</th></tr></thead><tbody><tr><th style=\"text-align: center; background-color: white; border-right: 1px solid black; \">0</th><td style=\"text-align: center\">1332</td><td style=\"text-align: center\"> 198</td><td style=\"text-align: center\">   0</td></tr><tr><th style=\"text-align: center; background-color: white; border-right: 1px solid black; \">1</th><td style=\"text-align: center\">1511</td><td style=\"text-align: center\">  10</td><td style=\"text-align: center\">   9</td></tr><tr><th style=\"text-align: center; background-color: white; border-right: 1px solid black; \">2</th><td style=\"text-align: center\">1492</td><td style=\"text-align: center\">  38</td><td style=\"text-align: center\">   0</td></tr><tr><th style=\"text-align: center; background-color: white; border-right: 1px solid black; \">3</th><td style=\"text-align: center\">1512</td><td style=\"text-align: center\">  16</td><td style=\"text-align: center\">   2</td></tr><tr><th style=\"text-align: center; background-color: white; border-right: 1px solid black; \">4</th><td style=\"text-align: center\">1498</td><td style=\"text-align: center\">  32</td><td style=\"text-align: center\">   0</td></tr><tr><th style=\"text-align: center; background-color: white; border-right: 1px solid black; \">5</th><td style=\"text-align: center\">1100</td><td style=\"text-align: center\"> 430</td><td style=\"text-align: center\">   0</td></tr><tr><th style=\"text-align: center; background-color: white; border-right: 1px solid black; \">6</th><td style=\"text-align: center\"> 755</td><td style=\"text-align: center\"> 775</td><td style=\"text-align: center\">   0</td></tr><tr><th style=\"text-align: center; background-color: white; border-right: 1px solid black; \">7</th><td style=\"text-align: center\">1519</td><td style=\"text-align: center\">  11</td><td style=\"text-align: center\">   0</td></tr><tr><th style=\"text-align: center; background-color: white; border-right: 1px solid black; \">8</th><td style=\"text-align: center\">1525</td><td style=\"text-align: center\">   5</td><td style=\"text-align: center\">   0</td></tr><tr><th style=\"text-align: center; background-color: white; border-right: 1px solid black; \">9</th><td style=\"text-align: center\">1511</td><td style=\"text-align: center\">  19</td><td style=\"text-align: center\">   0</td></tr><tr><th style=\"text-align: center; background-color: white; border-right: 1px solid black; \">10</th><td style=\"text-align: center\">1420</td><td style=\"text-align: center\"> 110</td><td style=\"text-align: center\">   0</td></tr><tr><th style=\"text-align: center; background-color: white; border-right: 1px solid black; \">11</th><td style=\"text-align: center\">1519</td><td style=\"text-align: center\">  11</td><td style=\"text-align: center\">   0</td></tr><tr><th style=\"text-align: center; background-color: white; border-right: 1px solid black; \">12</th><td style=\"text-align: center\">1523</td><td style=\"text-align: center\">   7</td><td style=\"text-align: center\">   0</td></tr><tr><th style=\"text-align: center; background-color: white; border-right: 1px solid black; \">13</th><td style=\"text-align: center\">1502</td><td style=\"text-align: center\">  28</td><td style=\"text-align: center\">   0</td></tr><tr><th style=\"text-align: center; background-color: white; border-right: 1px solid black; \">14</th><td style=\"text-align: center\">1517</td><td style=\"text-align: center\">  13</td><td style=\"text-align: center\">   0</td></tr><tr><th style=\"text-align: center; background-color: white; border-right: 1px solid black; \">15</th><td style=\"text-align: center\">1478</td><td style=\"text-align: center\">  52</td><td style=\"text-align: center\">   0</td></tr><tr><th style=\"text-align: center; background-color: white; border-right: 1px solid black; \">16</th><td style=\"text-align: center\">1501</td><td style=\"text-align: center\">  29</td><td style=\"text-align: center\">   0</td></tr><tr><th style=\"text-align: center; background-color: white; border-right: 1px solid black; \">17</th><td style=\"text-align: center\">1450</td><td style=\"text-align: center\">  80</td><td style=\"text-align: center\">   0</td></tr><tr><th style=\"text-align: center; background-color: white; border-right: 1px solid black; \">18</th><td style=\"text-align: center\">1518</td><td style=\"text-align: center\">  12</td><td style=\"text-align: center\">   0</td></tr><tr><th style=\"text-align: center; background-color: white; border-right: 1px solid black; \">19</th><td style=\"text-align: center\">1514</td><td style=\"text-align: center\">  16</td><td style=\"text-align: center\">   0</td></tr><tr><th style=\"text-align: center; background-color: white; border-right: 1px solid black; \">20</th><td style=\"text-align: center\">1486</td><td style=\"text-align: center\">  44</td><td style=\"text-align: center\">   0</td></tr></tbody></table></div>"
      ]
     },
     "metadata": {},
     "output_type": "display_data"
    }
   ],
   "source": [
    "ac = haps_selected.count_alleles()\n",
    "ac.displayall()"
   ]
  },
  {
   "cell_type": "markdown",
   "metadata": {},
   "source": [
    "## Compute and plot pairwise LD"
   ]
  },
  {
   "cell_type": "code",
   "execution_count": 11,
   "metadata": {
    "scrolled": true
   },
   "outputs": [
    {
     "name": "stdout",
     "output_type": "stream",
     "text": [
      "row 0 0 2390177 1\n",
      "row 1 1 2391228 1\n",
      "row 2 1 2391228 2\n",
      "row 3 2 2399997 1\n",
      "row 4 3 2400071 1\n",
      "row 5 3 2400071 2\n",
      "row 6 4 2416980 1\n",
      "row 7 5 2422651 1\n",
      "row 8 6 2422652 1\n",
      "row 9 7 2424384 1\n",
      "row 10 8 2425077 1\n",
      "row 11 9 2429617 1\n",
      "row 12 10 2429745 1\n",
      "row 13 11 2429897 1\n",
      "row 14 12 2429915 1\n",
      "row 15 13 2430424 1\n",
      "row 16 14 2430817 1\n",
      "row 17 15 2430863 1\n",
      "row 18 16 2430880 1\n",
      "row 19 17 2430881 1\n",
      "row 20 18 2431019 1\n",
      "row 21 19 2431061 1\n",
      "row 22 20 2431079 1\n"
     ]
    }
   ],
   "source": [
    "def compute_ld():\n",
    "    global ld\n",
    "    recs = list(tbl_variants_selected.records())\n",
    "    n = len(recs)\n",
    "    ld = np.zeros((n, n), dtype='f8')\n",
    "    for i in range(n):\n",
    "        i_pos = recs[i].POS\n",
    "        i_allele = recs[i].ALTIX + 1\n",
    "        i_vidx = pos_selected.locate_key(i_pos)\n",
    "        log('row', i, i_vidx, i_pos, i_allele)\n",
    "        for j in range(i+1, n):\n",
    "            j_pos = recs[j].POS\n",
    "            j_allele = recs[j].ALTIX + 1\n",
    "            j_vidx = pos_selected.locate_key(j_pos)\n",
    "    #         log('col', j, j_vidx, j_pos, j_allele)\n",
    "            v = lewontin_d_prime(haps_selected, i_vidx, j_vidx, i_allele, j_allele)\n",
    "    #         log('D_prime', v)\n",
    "            ld[i, j] = v\n",
    "            ld[j, i] = v\n",
    "        \n",
    "    \n",
    "compute_ld()"
   ]
  },
  {
   "cell_type": "code",
   "execution_count": 12,
   "metadata": {
    "scrolled": false
   },
   "outputs": [
    {
     "data": {
      "image/png": "[encoded data removed]",
      "text/plain": [
       "<matplotlib.figure.Figure at 0x7f43607eea20>"
      ]
     },
     "metadata": {},
     "output_type": "display_data"
    }
   ],
   "source": [
    "def fig_pw_ld():\n",
    "\n",
    "    fig = plt.figure(figsize=(7, 6), dpi=120)\n",
    "\n",
    "    gs = mpl.gridspec.GridSpec(1, 2, width_ratios=[7, .5])\n",
    "\n",
    "    # sns.despine(ax=ax, offset=5)\n",
    "    #sns.heatmap(ld, vmin=-1, vmax=1, center=0, square=True, ax=ax, cmap='Blues', cbar_kws=dict(ticks=[-1, -.5, 0, .5, 1]))\n",
    "\n",
    "    ax = fig.add_subplot(gs[0])\n",
    "    im = ax.pcolormesh(ld, vmin=-1, vmax=1, cmap='Blues', shading='flat', edgecolors='gray', linewidths=.5, antialiased=True)\n",
    "\n",
    "    labels = ['%s:%s>%s %s' % (rec.POS, rec.REF, rec.ALT, rec['AGAP004707-RA'].rjust(6))\n",
    "              for rec in tbl_variants_selected.records()]\n",
    "    # ax.invert_yaxis()\n",
    "    ticks = np.arange(ld.shape[0]) + .5\n",
    "    ax.set_xticks(ticks)\n",
    "    ax.set_yticks(ticks)\n",
    "    ax.set_xticklabels(labels, rotation=90, ha='center', va='top', fontdict=dict(family='monospace'))\n",
    "    ax.set_yticklabels(labels, rotation=0, va='center', ha='right', fontdict=dict(family='monospace'));\n",
    "    ax.set_xlim(0, ld.shape[0])\n",
    "    ax.set_ylim(0, ld.shape[0])\n",
    "    ax.xaxis.set_tick_params(length=0)\n",
    "    ax.yaxis.set_tick_params(length=0)\n",
    "    for i in range(ld.shape[0] + 1):\n",
    "        ax.add_patch(plt.Rectangle((i-1, i-1), 1, 1, color='gray'))\n",
    "    ax.set_title(\"Linkage disequilibrium (D')\", loc='right')\n",
    "\n",
    "    cax = fig.add_subplot(gs[1])\n",
    "    fig.colorbar(im, cax=cax)\n",
    "\n",
    "    fig.tight_layout()\n",
    "    fig.savefig('../artwork/fig_ld.png', dpi=300, bbox_inches='tight')\n",
    "    \n",
    "\n",
    "fig_pw_ld()"
   ]
  },
  {
   "cell_type": "code",
   "execution_count": null,
   "metadata": {
    "collapsed": true
   },
   "outputs": [],
   "source": []
  }
 ],
 "metadata": {
  "kernelspec": {
   "display_name": "Python 3",
   "language": "python",
   "name": "python3"
  },
  "language_info": {
   "codemirror_mode": {
    "name": "ipython",
    "version": 3
   },
   "file_extension": ".py",
   "mimetype": "text/x-python",
   "name": "python",
   "nbconvert_exporter": "python",
   "pygments_lexer": "ipython3",
   "version": "3.5.3"
  }
 },
 "nbformat": 4,
 "nbformat_minor": 2
}
