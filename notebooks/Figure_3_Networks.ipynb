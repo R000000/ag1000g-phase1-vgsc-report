{
 "cells": [
  {
   "cell_type": "markdown",
   "metadata": {},
   "source": [
    "### Code to generate Figure 3 - Haplogroup networks"
   ]
  },
  {
   "cell_type": "code",
   "execution_count": null,
   "metadata": {},
   "outputs": [],
   "source": [
    "%run setup.ipynb\n",
    "%matplotlib inline\n",
    "import hapclust\n",
    "import pickle\n",
    "import matplotlib.patches as patches"
   ]
  },
  {
   "cell_type": "markdown",
   "metadata": {},
   "source": [
    "#### setup data"
   ]
  },
  {
   "cell_type": "code",
   "execution_count": null,
   "metadata": {},
   "outputs": [],
   "source": [
    "# obtain data from unphased callset - only needed for variant annotations\n",
    "callset = phase1_ar31.callset\n",
    "pos_all = allel.SortedIndex(callset['2L/variants/POS'])\n",
    "ann_all = callset['2L/variants/ANN'][:][['Annotation', 'HGVS_p']]\n",
    "\n",
    "# setup haplotype data\n",
    "callset_phased = phase1_ar31.callset_phased\n",
    "genotypes_phased = allel.GenotypeDaskArray(callset_phased['2L/calldata/genotype'])\n",
    "pos_phased = allel.SortedIndex(callset_phased['2L/variants/POS'])\n",
    "genotypes_phased.shape, pos_phased.shape"
   ]
  },
  {
   "cell_type": "code",
   "execution_count": null,
   "metadata": {
    "collapsed": true
   },
   "outputs": [],
   "source": [
    "pos_kdr_s = 2422651\n",
    "pos_kdr_f = 2422652"
   ]
  },
  {
   "cell_type": "code",
   "execution_count": null,
   "metadata": {},
   "outputs": [],
   "source": [
    "# define region we're going to analyse\n",
    "loc_region = pos_phased.locate_range(0, 4000000)\n",
    "pos_phased_region = pos_phased[loc_region]\n",
    "pos_phased_region"
   ]
  },
  {
   "cell_type": "code",
   "execution_count": null,
   "metadata": {},
   "outputs": [],
   "source": [
    "# chop genotypes to region, remove colony parents (8 samples) and turn into haplotype array\n",
    "gen_phased_region = genotypes_phased[loc_region][:, :-8].compute()\n",
    "gen_phased_region.shape\n",
    "# don't turn in .to_haplotypes() yet - might be easier to interleave new positions first, then turn whole lot into hap"
   ]
  },
  {
   "cell_type": "markdown",
   "metadata": {},
   "source": [
    "#### grab mvncalls"
   ]
  },
  {
   "cell_type": "code",
   "execution_count": null,
   "metadata": {},
   "outputs": [],
   "source": [
    "#genotypes\n",
    "mvn_200 = np.load('../data/phasing_extra_phase1.mvncall.200.npz')\n",
    "call_mvn = mvn_200['calldata']\n",
    "gen_mvn = allel.GenotypeArray(call_mvn['genotype'])\n",
    "\n",
    "#positions\n",
    "pos_mvn = allel.SortedIndex(mvn_200['variants']['POS'])\n",
    "pos_mvn"
   ]
  },
  {
   "cell_type": "markdown",
   "metadata": {},
   "source": [
    "#### weave"
   ]
  },
  {
   "cell_type": "code",
   "execution_count": null,
   "metadata": {},
   "outputs": [],
   "source": [
    "#concatenate old and new gen/pos arrays\n",
    "haps_combined = np.concatenate([gen_phased_region, gen_mvn], axis=0)\n",
    "pos_combined = np.concatenate([pos_phased_region, pos_mvn], axis=0)\n",
    "\n",
    "#sort pos indices\n",
    "idx_sorted =np.argsort(pos_combined)\n",
    "\n",
    "#use sorted indices to re-order the combined arrays\n",
    "haps_combined = allel.GenotypeArray(haps_combined[idx_sorted])\n",
    "\n",
    "pos_combined = allel.SortedIndex(pos_combined[idx_sorted])\n",
    "\n",
    "#then turn into haplotype array...\n",
    "haps = haps_combined.to_haplotypes()\n",
    "haps"
   ]
  },
  {
   "cell_type": "markdown",
   "metadata": {},
   "source": [
    "#### chop haps to just gene"
   ]
  },
  {
   "cell_type": "code",
   "execution_count": null,
   "metadata": {},
   "outputs": [],
   "source": [
    "region_vgsc = SeqFeature('2L', 2358158, 2431617)\n",
    "loc = pos_combined.locate_range(region_vgsc.start, region_vgsc.end)\n",
    "h_vgsc = haps[loc]"
   ]
  },
  {
   "cell_type": "code",
   "execution_count": null,
   "metadata": {},
   "outputs": [],
   "source": [
    "pos = pos_combined[loc]\n",
    "pos_995S = 2422651\n",
    "pos_995F = 2422652\n",
    "\n",
    "sample_ids = callset['2L']['samples'][:]\n",
    "hap_ids = np.array(list(itertools.chain(*[[s + b'a', s + b'b'] for s in sample_ids])))\n",
    "\n",
    "tbl_haplotypes = etl.fromtsv('../data/ag1000g.phase1.AR3.1.haplotypes.meta.txt')\n",
    "hap_pops = np.array(tbl_haplotypes.values('population'))\n",
    "\n",
    "# need to use named colors for graphviz\n",
    "pop_colors = {\n",
    "    'AOM': 'brown',\n",
    "    'BFM': 'firebrick1',\n",
    "    'GWA': 'goldenrod1',\n",
    "    'GNS': 'cadetblue1',\n",
    "    'BFS': 'deepskyblue',\n",
    "    'CMS': 'dodgerblue3',\n",
    "    'UGS': 'palegreen',\n",
    "    'GAS': 'olivedrab',\n",
    "    'KES': 'grey47',\n",
    "    'colony': 'black'\n",
    "}\n",
    "hap_colors = np.array([pop_colors[p] for p in hap_pops])"
   ]
  },
  {
   "cell_type": "code",
   "execution_count": null,
   "metadata": {},
   "outputs": [],
   "source": [
    "#associates pop colours with haps\n",
    "hap_colors = np.array([pop_colors[p] for p in hap_pops])\n",
    "\n",
    "#haplogroup indices generated in Figure_1a_Clado_SM.ipynb\n",
    "with open('../data/clust_dict.pickle', 'rb') as handle:\n",
    "    clus_dict = pickle.load(handle)\n",
    "\n",
    "sorted(clus_dict.keys())"
   ]
  },
  {
   "cell_type": "markdown",
   "metadata": {},
   "source": [
    "#### add labels"
   ]
  },
  {
   "cell_type": "code",
   "execution_count": null,
   "metadata": {},
   "outputs": [],
   "source": [
    "tbl_variant_labels = (\n",
    "    etl\n",
    "    .frompickle('../data/tbl_variants_phase1.pkl')\n",
    "    .eq('num_alleles', 2)\n",
    "    .cut('POS', 'AGAP004707-RA')\n",
    "    .convert('AGAP004707-RA', lambda v: v[1] if v[0] == 'NON_SYNONYMOUS_CODING' else '')\n",
    "    .rename('AGAP004707-RA', 'label')\n",
    ")\n",
    "tbl_variant_labels"
   ]
  },
  {
   "cell_type": "code",
   "execution_count": null,
   "metadata": {},
   "outputs": [],
   "source": [
    "pos2label = tbl_variant_labels.lookupone('POS', 'label')\n",
    "pos2label[pos_995F]"
   ]
  },
  {
   "cell_type": "code",
   "execution_count": null,
   "metadata": {},
   "outputs": [],
   "source": [
    "variant_labels_vgsc= np.array([pos2label.get(p, '') for p in pos], dtype=object)\n",
    "#variant_labels_vgsc = variant_labels[loc]\n",
    "variant_labels_vgsc"
   ]
  },
  {
   "cell_type": "markdown",
   "metadata": {},
   "source": [
    "## PRODUCE INDIVIDUAL NETWORK PLOTS\n",
    "- remove recombinants\n",
    "- leave F3 till last, multiallelics here mean that we need to use the pre-mvn-weave haplotypes"
   ]
  },
  {
   "cell_type": "code",
   "execution_count": null,
   "metadata": {},
   "outputs": [],
   "source": [
    "clus = 'F1' #without recomb\n",
    "cluster_idx = clus_dict[clus]\n",
    "cluster_haps = h_vgsc.take(list(cluster_idx), axis=1)\n",
    "cluster_hap_pops = hap_pops[list(cluster_idx)]\n",
    "\n",
    "#remove recombinants\n",
    "idx_rec = hapclust.locate_recombinants(cluster_haps, debug=False)\n",
    "\n",
    "idx_norec = [i for i in range(cluster_haps.shape[1]) if i not in idx_rec[0]]\n",
    "\n",
    "\n",
    "cluster_hap_colors = np.array([pop_colors[p] for p in cluster_hap_pops])\n",
    "\n",
    "\n",
    "graph16 = hapclust.graph_haplotype_network(cluster_haps[:, idx_norec], hap_colors=cluster_hap_colors[idx_norec], mode='KK', \n",
    "                                           network_method='mjn',edge_weight=12, overlap=True, splines=False,\n",
    "                                           show_node_labels=10000, fontsize='12', \n",
    "                                           variant_labels=variant_labels_vgsc, max_dist=4)\n",
    "\n",
    "\n",
    "graph16.format = 'svg'\n",
    "fn = '/home/chris/Git/agam-vgsc-report/artwork/'+clus+'_norecomb_t_hat'\n",
    "graph16.render(fn)\n",
    "\n",
    "graph16"
   ]
  },
  {
   "cell_type": "code",
   "execution_count": null,
   "metadata": {},
   "outputs": [],
   "source": [
    "clus = 'F1' #without recomb\n",
    "cluster_idx = clus_dict[clus]\n",
    "cluster_haps = h_vgsc.take(list(cluster_idx), axis=1)\n",
    "cluster_hap_pops = hap_pops[list(cluster_idx)]\n",
    "\n",
    "#remove recombinants\n",
    "idx_rec = hapclust.locate_recombinants(cluster_haps, debug=False)\n",
    "\n",
    "idx_norec = [i for i in range(cluster_haps.shape[1]) if i not in idx_rec[0]]\n",
    "\n",
    "\n",
    "cluster_hap_colors = np.array([pop_colors[p] for p in cluster_hap_pops])\n",
    "\n",
    "\n",
    "graph16 = hapclust.graph_haplotype_network(cluster_haps, hap_colors=cluster_hap_colors, mode='KK', \n",
    "                                           network_method='mjn',edge_weight=12, overlap=True, splines=False,\n",
    "                                           show_node_labels=10000, fontsize='12', \n",
    "                                           variant_labels=variant_labels_vgsc, max_dist=4)\n",
    "\n",
    "\n",
    "graph16.format = 'svg'\n",
    "fn = '/home/chris/Git/agam-vgsc-report/artwork/'+clus+'_recomb_t_hat'\n",
    "graph16.render(fn)\n",
    "\n",
    "graph16"
   ]
  },
  {
   "cell_type": "code",
   "execution_count": null,
   "metadata": {},
   "outputs": [],
   "source": [
    "clus = 'F2'\n",
    "cluster_idx = clus_dict[clus]\n",
    "cluster_haps = h_vgsc.take(list(cluster_idx), axis=1)\n",
    "cluster_hap_pops = hap_pops[list(cluster_idx)]\n",
    "\n",
    "#remove recombinants\n",
    "idx_rec = hapclust.locate_recombinants(cluster_haps, debug=False)\n",
    "\n",
    "idx_norec = [i for i in range(cluster_haps.shape[1]) if i not in idx_rec[0]]\n",
    "\n",
    "\n",
    "cluster_hap_colors = np.array([pop_colors[p] for p in cluster_hap_pops])\n",
    "\n",
    "\n",
    "graph16 = hapclust.graph_haplotype_network(cluster_haps[:, idx_norec], hap_colors=cluster_hap_colors[idx_norec], mode='KK', \n",
    "                                           network_method='mjn',edge_weight=12, overlap=True, splines=False,\n",
    "                                           show_node_labels=10000, fontsize='12', \n",
    "                                           variant_labels=variant_labels_vgsc, max_dist=4)\n",
    "\n",
    "\n",
    "graph16.format = 'svg'\n",
    "fn = '/home/chris/Git/agam-vgsc-report/artwork/'+clus+'_norecomb_t_hat'\n",
    "graph16.render(fn)\n",
    "\n",
    "graph16"
   ]
  },
  {
   "cell_type": "code",
   "execution_count": null,
   "metadata": {},
   "outputs": [],
   "source": [
    "clus = 'F2'\n",
    "cluster_idx = clus_dict[clus]\n",
    "cluster_haps = h_vgsc.take(list(cluster_idx), axis=1)\n",
    "cluster_hap_pops = hap_pops[list(cluster_idx)]\n",
    "\n",
    "#remove recombinants\n",
    "idx_rec = hapclust.locate_recombinants(cluster_haps, debug=False)\n",
    "\n",
    "idx_norec = [i for i in range(cluster_haps.shape[1]) if i not in idx_rec[0]]\n",
    "\n",
    "\n",
    "cluster_hap_colors = np.array([pop_colors[p] for p in cluster_hap_pops])\n",
    "\n",
    "\n",
    "graph16 = hapclust.graph_haplotype_network(cluster_haps, hap_colors=cluster_hap_colors, mode='KK', \n",
    "                                           network_method='mjn',edge_weight=12, overlap=True, splines=False,\n",
    "                                           show_node_labels=10000, fontsize='12', \n",
    "                                           variant_labels=variant_labels_vgsc, max_dist=4)\n",
    "\n",
    "\n",
    "graph16.format = 'svg'\n",
    "fn = '/home/chris/Git/agam-vgsc-report/artwork/'+clus+'_recomb_t_hat'\n",
    "graph16.render(fn)\n",
    "\n",
    "graph16"
   ]
  },
  {
   "cell_type": "code",
   "execution_count": null,
   "metadata": {},
   "outputs": [],
   "source": [
    "clus = 'F4'\n",
    "cluster_idx = clus_dict[clus]\n",
    "cluster_haps = h_vgsc.take(list(cluster_idx), axis=1)\n",
    "cluster_hap_pops = hap_pops[list(cluster_idx)]\n",
    "\n",
    "#remove recombinants\n",
    "idx_rec = hapclust.locate_recombinants(cluster_haps, debug=False)\n",
    "\n",
    "idx_norec = [i for i in range(cluster_haps.shape[1]) if i not in idx_rec[0]]\n",
    "\n",
    "\n",
    "cluster_hap_colors = np.array([pop_colors[p] for p in cluster_hap_pops])\n",
    "\n",
    "\n",
    "graph16 = hapclust.graph_haplotype_network(cluster_haps[:, idx_norec], hap_colors=cluster_hap_colors[idx_norec], mode='KK', \n",
    "                                           network_method='mjn',edge_weight=12, overlap=True, splines=False,\n",
    "                                           show_node_labels=10000, fontsize='12', \n",
    "                                           variant_labels=variant_labels_vgsc, max_dist=4)\n",
    "\n",
    "\n",
    "graph16.format = 'svg'\n",
    "fn = '/home/chris/Git/agam-vgsc-report/artwork/'+clus+'_norecomb_t_hat'\n",
    "graph16.render(fn)\n",
    "\n",
    "graph16"
   ]
  },
  {
   "cell_type": "code",
   "execution_count": null,
   "metadata": {},
   "outputs": [],
   "source": [
    "clus = 'F4'\n",
    "cluster_idx = clus_dict[clus]\n",
    "cluster_haps = h_vgsc.take(list(cluster_idx), axis=1)\n",
    "cluster_hap_pops = hap_pops[list(cluster_idx)]\n",
    "\n",
    "#remove recombinants\n",
    "idx_rec = hapclust.locate_recombinants(cluster_haps, debug=False)\n",
    "\n",
    "idx_norec = [i for i in range(cluster_haps.shape[1]) if i not in idx_rec[0]]\n",
    "\n",
    "\n",
    "cluster_hap_colors = np.array([pop_colors[p] for p in cluster_hap_pops])\n",
    "\n",
    "\n",
    "graph16 = hapclust.graph_haplotype_network(cluster_haps, hap_colors=cluster_hap_colors, mode='KK', \n",
    "                                           network_method='mjn',edge_weight=12, overlap=True, splines=False,\n",
    "                                           show_node_labels=10000, fontsize='12', \n",
    "                                           variant_labels=variant_labels_vgsc, max_dist=4)\n",
    "\n",
    "\n",
    "graph16.format = 'svg'\n",
    "fn = '/home/chris/Git/agam-vgsc-report/artwork/'+clus+'_recomb_t_hat'\n",
    "graph16.render(fn)\n",
    "\n",
    "graph16"
   ]
  },
  {
   "cell_type": "code",
   "execution_count": null,
   "metadata": {},
   "outputs": [],
   "source": [
    "clus = 'F5'\n",
    "cluster_idx = clus_dict[clus]\n",
    "cluster_haps = h_vgsc.take(list(cluster_idx), axis=1)\n",
    "cluster_hap_pops = hap_pops[list(cluster_idx)]\n",
    "\n",
    "#remove recombinants\n",
    "idx_rec = hapclust.locate_recombinants(cluster_haps, debug=False)\n",
    "\n",
    "idx_norec = [i for i in range(cluster_haps.shape[1]) if i not in idx_rec[0]]\n",
    "\n",
    "\n",
    "cluster_hap_colors = np.array([pop_colors[p] for p in cluster_hap_pops])\n",
    "\n",
    "\n",
    "graph16 = hapclust.graph_haplotype_network(cluster_haps[:, idx_norec], hap_colors=cluster_hap_colors[idx_norec], mode='KK', \n",
    "                                           network_method='mjn',edge_weight=12, overlap=True, splines=False,\n",
    "                                           show_node_labels=10000, fontsize='12', \n",
    "                                           variant_labels=variant_labels_vgsc, max_dist=4)\n",
    "\n",
    "\n",
    "graph16.format = 'svg'\n",
    "fn = '/home/chris/Git/agam-vgsc-report/artwork/'+clus+'_norecomb_t_hat'\n",
    "graph16.render(fn)\n",
    "\n",
    "graph16"
   ]
  },
  {
   "cell_type": "code",
   "execution_count": null,
   "metadata": {},
   "outputs": [],
   "source": [
    "#using locate recomb here does terrifying things...\n",
    "\n",
    "clus = 'F5'\n",
    "cluster_idx = clus_dict[clus]\n",
    "cluster_haps = h_vgsc.take(list(cluster_idx), axis=1)\n",
    "cluster_hap_pops = hap_pops[list(cluster_idx)]\n",
    "\n",
    "#remove recombinants\n",
    "idx_rec = hapclust.locate_recombinants(cluster_haps, debug=False)\n",
    "\n",
    "idx_norec = [i for i in range(cluster_haps.shape[1]) if i not in idx_rec[0]]\n",
    "\n",
    "\n",
    "cluster_hap_colors = np.array([pop_colors[p] for p in cluster_hap_pops])\n",
    "\n",
    "\n",
    "graph16 = hapclust.graph_haplotype_network(cluster_haps, hap_colors=cluster_hap_colors, mode='KK',\n",
    "                                           network_method='mjn',edge_weight=12, overlap=True, splines=False,\n",
    "                                           show_node_labels=10000, fontsize='12', \n",
    "                                           variant_labels=variant_labels_vgsc, max_dist=4)\n",
    "\n",
    "\n",
    "graph16.format = 'svg'\n",
    "fn = '/home/chris/Git/agam-vgsc-report/artwork/'+clus+'_recomb_t_hat'\n",
    "graph16.render(fn)\n",
    "\n",
    "graph16"
   ]
  },
  {
   "cell_type": "code",
   "execution_count": null,
   "metadata": {},
   "outputs": [],
   "source": [
    "clus = 'S1'\n",
    "cluster_idx = clus_dict[clus]\n",
    "cluster_haps = h_vgsc.take(list(cluster_idx), axis=1)\n",
    "cluster_hap_pops = hap_pops[list(cluster_idx)]\n",
    "\n",
    "#remove recombinants\n",
    "idx_rec = hapclust.locate_recombinants(cluster_haps, debug=False)\n",
    "\n",
    "idx_norec = [i for i in range(cluster_haps.shape[1]) if i not in idx_rec[0]]\n",
    "\n",
    "\n",
    "cluster_hap_colors = np.array([pop_colors[p] for p in cluster_hap_pops])\n",
    "\n",
    "\n",
    "graph16 = hapclust.graph_haplotype_network(cluster_haps[:, idx_norec], hap_colors=cluster_hap_colors[idx_norec], mode='KK',\n",
    "                                           network_method='mjn',edge_weight=12, overlap=True, splines=False,\n",
    "                                           show_node_labels=10000, fontsize='12', \n",
    "                                           variant_labels=variant_labels_vgsc, max_dist=4)\n",
    "\n",
    "\n",
    "graph16.format = 'svg'\n",
    "fn = '/home/chris/Git/agam-vgsc-report/artwork/'+clus+'_norecomb_t_hat'\n",
    "graph16.render(fn)\n",
    "\n",
    "graph16"
   ]
  },
  {
   "cell_type": "code",
   "execution_count": null,
   "metadata": {},
   "outputs": [],
   "source": [
    "clus = 'S1'\n",
    "cluster_idx = clus_dict[clus]\n",
    "cluster_haps = h_vgsc.take(list(cluster_idx), axis=1)\n",
    "cluster_hap_pops = hap_pops[list(cluster_idx)]\n",
    "\n",
    "#remove recombinants\n",
    "idx_rec = hapclust.locate_recombinants(cluster_haps, debug=False)\n",
    "\n",
    "idx_norec = [i for i in range(cluster_haps.shape[1]) if i not in idx_rec[0]]\n",
    "\n",
    "\n",
    "cluster_hap_colors = np.array([pop_colors[p] for p in cluster_hap_pops])\n",
    "\n",
    "\n",
    "graph16 = hapclust.graph_haplotype_network(cluster_haps, hap_colors=cluster_hap_colors, mode='KK',\n",
    "                                           network_method='mjn',edge_weight=12, overlap=True, splines=False,\n",
    "                                           show_node_labels=10000, fontsize='12', \n",
    "                                           variant_labels=variant_labels_vgsc, max_dist=4)\n",
    "\n",
    "\n",
    "graph16.format = 'svg'\n",
    "fn = '/home/chris/Git/agam-vgsc-report/artwork/'+clus+'_recomb_t_hat'\n",
    "graph16.render(fn)\n",
    "\n",
    "graph16"
   ]
  },
  {
   "cell_type": "code",
   "execution_count": null,
   "metadata": {},
   "outputs": [],
   "source": [
    "clus = 'S2'\n",
    "cluster_idx = clus_dict[clus]\n",
    "cluster_haps = h_vgsc.take(list(cluster_idx), axis=1)\n",
    "cluster_hap_pops = hap_pops[list(cluster_idx)]\n",
    "\n",
    "#remove recombinants\n",
    "idx_rec = hapclust.locate_recombinants(cluster_haps, debug=False)\n",
    "\n",
    "idx_norec = [i for i in range(cluster_haps.shape[1]) if i not in idx_rec[0]]\n",
    "\n",
    "\n",
    "cluster_hap_colors = np.array([pop_colors[p] for p in cluster_hap_pops])\n",
    "\n",
    "\n",
    "graph16 = hapclust.graph_haplotype_network(cluster_haps[:, idx_norec], hap_colors=cluster_hap_colors[idx_norec], mode='KK', \n",
    "                                           network_method='mjn',edge_weight=12, overlap=True, splines=False,\n",
    "                                           show_node_labels=10000, fontsize='12', \n",
    "                                           variant_labels=variant_labels_vgsc, max_dist=8)\n",
    "\n",
    "\n",
    "graph16.format = 'svg'\n",
    "fn = '/home/chris/Git/agam-vgsc-report/artwork/'+clus+'_norecomb_t_hat'\n",
    "graph16.render(fn)\n",
    "\n",
    "graph16"
   ]
  },
  {
   "cell_type": "code",
   "execution_count": null,
   "metadata": {},
   "outputs": [],
   "source": [
    "clus = 'S2'\n",
    "cluster_idx = clus_dict[clus]\n",
    "cluster_haps = h_vgsc.take(list(cluster_idx), axis=1)\n",
    "cluster_hap_pops = hap_pops[list(cluster_idx)]\n",
    "\n",
    "#remove recombinants\n",
    "idx_rec = hapclust.locate_recombinants(cluster_haps, debug=False)\n",
    "\n",
    "idx_norec = [i for i in range(cluster_haps.shape[1]) if i not in idx_rec[0]]\n",
    "\n",
    "\n",
    "cluster_hap_colors = np.array([pop_colors[p] for p in cluster_hap_pops])\n",
    "\n",
    "\n",
    "graph16 = hapclust.graph_haplotype_network(cluster_haps, hap_colors=cluster_hap_colors, mode='KK',\n",
    "                                           network_method='mjn',edge_weight=12, overlap=True, splines=False,\n",
    "                                           show_node_labels=10000, fontsize='12', \n",
    "                                           variant_labels=variant_labels_vgsc, max_dist=4)\n",
    "\n",
    "\n",
    "graph16.format = 'svg'\n",
    "fn = '/home/chris/Git/agam-vgsc-report/artwork/'+clus+'_recomb_t_hat'\n",
    "graph16.render(fn)\n",
    "\n",
    "graph16"
   ]
  },
  {
   "cell_type": "code",
   "execution_count": null,
   "metadata": {},
   "outputs": [],
   "source": [
    "clus = 'S3'\n",
    "cluster_idx = clus_dict[clus]\n",
    "cluster_haps = h_vgsc.take(list(cluster_idx), axis=1)\n",
    "cluster_hap_pops = hap_pops[list(cluster_idx)]\n",
    "\n",
    "#remove recombinants\n",
    "idx_rec = hapclust.locate_recombinants(cluster_haps, debug=False)\n",
    "\n",
    "idx_norec = [i for i in range(cluster_haps.shape[1]) if i not in idx_rec[0]]\n",
    "\n",
    "\n",
    "cluster_hap_colors = np.array([pop_colors[p] for p in cluster_hap_pops])\n",
    "\n",
    "\n",
    "graph16 = hapclust.graph_haplotype_network(cluster_haps[:, idx_norec], hap_colors=cluster_hap_colors[idx_norec], mode='KK',\n",
    "                                           network_method='mjn',edge_weight=12, overlap=True, splines=False,\n",
    "                                           show_node_labels=10000, fontsize='12', \n",
    "                                           variant_labels=variant_labels_vgsc, max_dist=4)\n",
    "\n",
    "\n",
    "graph16.format = 'svg'\n",
    "fn = '/home/chris/Git/agam-vgsc-report/artwork/'+clus+'_norecomb_t_hat'\n",
    "graph16.render(fn)\n",
    "\n",
    "graph16"
   ]
  },
  {
   "cell_type": "code",
   "execution_count": null,
   "metadata": {},
   "outputs": [],
   "source": [
    "clus = 'S3'\n",
    "cluster_idx = clus_dict[clus]\n",
    "cluster_haps = h_vgsc.take(list(cluster_idx), axis=1)\n",
    "cluster_hap_pops = hap_pops[list(cluster_idx)]\n",
    "\n",
    "#remove recombinants\n",
    "idx_rec = hapclust.locate_recombinants(cluster_haps, debug=False)\n",
    "\n",
    "idx_norec = [i for i in range(cluster_haps.shape[1]) if i not in idx_rec[0]]\n",
    "\n",
    "\n",
    "cluster_hap_colors = np.array([pop_colors[p] for p in cluster_hap_pops])\n",
    "\n",
    "\n",
    "graph16 = hapclust.graph_haplotype_network(cluster_haps, hap_colors=cluster_hap_colors, mode='KK',\n",
    "                                           network_method='mjn',edge_weight=12, overlap=True, splines=False,\n",
    "                                           show_node_labels=10000, fontsize='12', \n",
    "                                           variant_labels=variant_labels_vgsc, max_dist=4)\n",
    "\n",
    "\n",
    "graph16.format = 'svg'\n",
    "fn = '/home/chris/Git/agam-vgsc-report/artwork/'+clus+'_recomb_t_hat'\n",
    "graph16.render(fn)\n",
    "\n",
    "graph16"
   ]
  },
  {
   "cell_type": "code",
   "execution_count": null,
   "metadata": {},
   "outputs": [],
   "source": [
    "clus = 'S4'\n",
    "cluster_idx = clus_dict[clus]\n",
    "cluster_haps = h_vgsc.take(list(cluster_idx), axis=1)\n",
    "cluster_hap_pops = hap_pops[list(cluster_idx)]\n",
    "\n",
    "#remove recombinants\n",
    "idx_rec = hapclust.locate_recombinants(cluster_haps, debug=False)\n",
    "\n",
    "idx_norec = [i for i in range(cluster_haps.shape[1]) if i not in idx_rec[0]]\n",
    "\n",
    "\n",
    "cluster_hap_colors = np.array([pop_colors[p] for p in cluster_hap_pops])\n",
    "\n",
    "\n",
    "graph16 = hapclust.graph_haplotype_network(cluster_haps[:, idx_norec], hap_colors=cluster_hap_colors[idx_norec], mode='KK',\n",
    "                                           network_method='mjn',edge_weight=12, overlap=True, splines=False,\n",
    "                                           show_node_labels=10000, fontsize='12', \n",
    "                                           variant_labels=variant_labels_vgsc, max_dist=4)\n",
    "\n",
    "\n",
    "graph16.format = 'svg'\n",
    "fn = '/home/chris/Git/agam-vgsc-report/artwork/'+clus+'_norecomb_t_hat'\n",
    "graph16.render(fn)\n",
    "\n",
    "graph16"
   ]
  },
  {
   "cell_type": "code",
   "execution_count": null,
   "metadata": {},
   "outputs": [],
   "source": [
    "clus = 'S4'\n",
    "cluster_idx = clus_dict[clus]\n",
    "cluster_haps = h_vgsc.take(list(cluster_idx), axis=1)\n",
    "cluster_hap_pops = hap_pops[list(cluster_idx)]\n",
    "\n",
    "#remove recombinants\n",
    "idx_rec = hapclust.locate_recombinants(cluster_haps, debug=False)\n",
    "\n",
    "idx_norec = [i for i in range(cluster_haps.shape[1]) if i not in idx_rec[0]]\n",
    "\n",
    "\n",
    "cluster_hap_colors = np.array([pop_colors[p] for p in cluster_hap_pops])\n",
    "\n",
    "\n",
    "graph16 = hapclust.graph_haplotype_network(cluster_haps, hap_colors=cluster_hap_colors, mode='KK', \n",
    "                                           network_method='mjn',edge_weight=12, overlap=True, splines=False,\n",
    "                                           show_node_labels=10000, fontsize='12', \n",
    "                                           variant_labels=variant_labels_vgsc, max_dist=4)\n",
    "\n",
    "\n",
    "graph16.format = 'svg'\n",
    "fn = '/home/chris/Git/agam-vgsc-report/artwork/'+clus+'_recomb_t_hat'\n",
    "graph16.render(fn)\n",
    "\n",
    "graph16"
   ]
  },
  {
   "cell_type": "code",
   "execution_count": null,
   "metadata": {},
   "outputs": [],
   "source": [
    "clus = 'L1'\n",
    "cluster_idx = clus_dict[clus]\n",
    "cluster_haps = h_vgsc.take(list(cluster_idx), axis=1)\n",
    "cluster_hap_pops = hap_pops[list(cluster_idx)]\n",
    "\n",
    "#remove recombinants\n",
    "idx_rec = hapclust.locate_recombinants(cluster_haps, debug=False)\n",
    "\n",
    "idx_norec = [i for i in range(cluster_haps.shape[1]) if i not in idx_rec[0]]\n",
    "\n",
    "\n",
    "cluster_hap_colors = np.array([pop_colors[p] for p in cluster_hap_pops])\n",
    "\n",
    "\n",
    "graph16 = hapclust.graph_haplotype_network(cluster_haps[:, idx_norec], hap_colors=cluster_hap_colors[idx_norec], mode='KK',\n",
    "                                           network_method='mjn',edge_weight=12, overlap=True, splines=False,\n",
    "                                           show_node_labels=10000, fontsize='12', \n",
    "                                           variant_labels=variant_labels_vgsc, max_dist=4)\n",
    "\n",
    "\n",
    "graph16.format = 'svg'\n",
    "fn = '/home/chris/Git/agam-vgsc-report/artwork/'+clus+'_norecomb_t_hat'\n",
    "graph16.render(fn)\n",
    "\n",
    "graph16"
   ]
  },
  {
   "cell_type": "code",
   "execution_count": null,
   "metadata": {},
   "outputs": [],
   "source": [
    "clus = 'L1'\n",
    "cluster_idx = clus_dict[clus]\n",
    "cluster_haps = h_vgsc.take(list(cluster_idx), axis=1)\n",
    "cluster_hap_pops = hap_pops[list(cluster_idx)]\n",
    "\n",
    "#remove recombinants\n",
    "idx_rec = hapclust.locate_recombinants(cluster_haps, debug=False)\n",
    "\n",
    "idx_norec = [i for i in range(cluster_haps.shape[1]) if i not in idx_rec[0]]\n",
    "\n",
    "\n",
    "cluster_hap_colors = np.array([pop_colors[p] for p in cluster_hap_pops])\n",
    "\n",
    "\n",
    "graph16 = hapclust.graph_haplotype_network(cluster_haps, hap_colors=cluster_hap_colors, mode='KK', \n",
    "                                           network_method='mjn',edge_weight=12, overlap=True, splines=False,\n",
    "                                           show_node_labels=10000, fontsize='12', \n",
    "                                           variant_labels=variant_labels_vgsc, max_dist=4)\n",
    "\n",
    "\n",
    "graph16.format = 'svg'\n",
    "fn = '/home/chris/Git/agam-vgsc-report/artwork/'+clus+'_recomb_t_hat'\n",
    "graph16.render(fn)\n",
    "\n",
    "graph16"
   ]
  },
  {
   "cell_type": "markdown",
   "metadata": {},
   "source": [
    "# BOTH L2 and F3 need the multiallelics removed..."
   ]
  },
  {
   "cell_type": "code",
   "execution_count": null,
   "metadata": {},
   "outputs": [],
   "source": [
    "#pre mvn call genotypes\n",
    "gen_phased_region.shape"
   ]
  },
  {
   "cell_type": "code",
   "execution_count": null,
   "metadata": {},
   "outputs": [],
   "source": [
    "#then turn into 'sp' haplotype array...\n",
    "haps_sp = gen_phased_region.to_haplotypes()\n",
    "haps_sp"
   ]
  },
  {
   "cell_type": "code",
   "execution_count": null,
   "metadata": {},
   "outputs": [],
   "source": [
    "loc_sp = pos_phased_region.locate_range(region_vgsc.start, region_vgsc.end)\n",
    "h_vgsc_sp = haps_sp[loc]"
   ]
  },
  {
   "cell_type": "code",
   "execution_count": null,
   "metadata": {},
   "outputs": [],
   "source": [
    "pos_sp = pos_phased_region[loc]\n",
    "len(pos_sp), len(h_vgsc_sp)"
   ]
  },
  {
   "cell_type": "code",
   "execution_count": null,
   "metadata": {},
   "outputs": [],
   "source": [
    "h_vgsc_sp"
   ]
  },
  {
   "cell_type": "code",
   "execution_count": null,
   "metadata": {},
   "outputs": [],
   "source": [
    "clus = 'F3' #without recomb\n",
    "cluster_idx = clus_dict[clus]\n",
    "cluster_haps = h_vgsc_sp.take(list(cluster_idx), axis=1)\n",
    "cluster_hap_pops = hap_pops[list(cluster_idx)]\n",
    "\n",
    "#remove recombinants\n",
    "# idx_rec = hapclust.locate_recombinants(cluster_haps, debug=False)\n",
    "\n",
    "# idx_norec = [i for i in range(cluster_haps.shape[1]) if i not in idx_rec[0]]"
   ]
  },
  {
   "cell_type": "code",
   "execution_count": null,
   "metadata": {},
   "outputs": [],
   "source": [
    "idx_rec = hapclust.locate_recombinants(cluster_haps, debug=False)"
   ]
  },
  {
   "cell_type": "code",
   "execution_count": null,
   "metadata": {},
   "outputs": [],
   "source": [
    "cluster_haps"
   ]
  },
  {
   "cell_type": "code",
   "execution_count": null,
   "metadata": {},
   "outputs": [],
   "source": [
    "cluster_hap_colors = np.array([pop_colors[p] for p in cluster_hap_pops])\n",
    "#[:, idx_norec]\n",
    "\n",
    "graph16 = hapclust.graph_haplotype_network(cluster_haps, hap_colors=cluster_hap_colors, mode='KK', \n",
    "                                           network_method='msn',edge_weight=12, overlap=True, splines=False,\n",
    "                                           show_node_labels=10000, fontsize='12', \n",
    "                                           variant_labels=variant_labels_vgsc, max_dist=3)\n",
    "\n",
    "\n",
    "graph16.format = 'svg'\n",
    "fn = '/home/chris/Git/agam-vgsc-report/artwork/'+clus+'_norecomb_t_hat'\n",
    "graph16.render(fn)\n",
    "\n",
    "graph16"
   ]
  },
  {
   "cell_type": "code",
   "execution_count": null,
   "metadata": {
    "collapsed": true
   },
   "outputs": [],
   "source": []
  },
  {
   "cell_type": "code",
   "execution_count": null,
   "metadata": {
    "collapsed": true
   },
   "outputs": [],
   "source": []
  },
  {
   "cell_type": "code",
   "execution_count": null,
   "metadata": {
    "collapsed": true
   },
   "outputs": [],
   "source": []
  },
  {
   "cell_type": "code",
   "execution_count": null,
   "metadata": {
    "collapsed": true
   },
   "outputs": [],
   "source": []
  },
  {
   "cell_type": "code",
   "execution_count": null,
   "metadata": {
    "collapsed": true
   },
   "outputs": [],
   "source": []
  },
  {
   "cell_type": "markdown",
   "metadata": {
    "collapsed": true
   },
   "source": [
    "# OLD HAPLOGROUP NETWORKS"
   ]
  },
  {
   "cell_type": "code",
   "execution_count": null,
   "metadata": {},
   "outputs": [],
   "source": [
    "#check what the cluster nets looks like in mjn\n",
    "#generate a 'graph'\n",
    "#cluster_idx = 16\n",
    "cluster_idx = clus_dict['F1']\n",
    "\n",
    "#dend_start, dend_stop, cluster_hap_indices = cluster_spans_995F[cluster_idx]\n",
    "\n",
    "\n",
    "cluster_haps = h_vgsc.take(list(cluster_idx), axis=1)\n",
    "\n",
    "\n",
    "cluster_hap_pops = hap_pops[list(cluster_idx)]\n",
    "\n",
    "\n",
    "cluster_hap_colors = np.array([pop_colors[p] for p in cluster_hap_pops])\n",
    "\n",
    "graph16 = hapclust.graph_haplotype_network(cluster_haps, hap_colors=cluster_hap_colors, mode='KK', \n",
    "                                           network_method='mjn',edge_weight=12, overlap=True, splines=False,\n",
    "                                           show_node_labels=10000, fontsize='12', \n",
    "                                           variant_labels=variant_labels_vgsc, max_dist=4)\n",
    "graph16\n",
    "\n",
    "graph16.format = 'svg'\n",
    "fn = '/home/chris/Git/agam-vgsc-report/artwork/995F_cluster_F1_mjn'\n",
    "graph16.render(fn)\n",
    "\n",
    "graph16"
   ]
  },
  {
   "cell_type": "code",
   "execution_count": null,
   "metadata": {},
   "outputs": [],
   "source": [
    "cluster_idx = 12\n",
    "dend_start, dend_stop, cluster_hap_indices = cluster_spans_995F[cluster_idx]\n",
    "cluster_haps = h_vgsc_995F.take(cluster_hap_indices, axis=1)\n",
    "cluster_hap_pops = hap_pops_995F[cluster_hap_indices]\n",
    "cluster_hap_colors = np.array([pop_colors[p] for p in cluster_hap_pops])\n",
    "graph12 = hapclust.graph_haplotype_network(cluster_haps, hap_colors=cluster_hap_colors, mode='KK', \n",
    "                                           network_method='mjn',edge_weight=12, overlap=True, splines=False,\n",
    "                                           show_node_labels=10000, fontsize='12', \n",
    "                                           variant_labels=variant_labels_vgsc, max_dist=4)\n",
    "\n",
    "\n",
    "graph12.format = 'svg'\n",
    "fn = '/home/chris/Git/agam-vgsc-report/artwork/995F_cluster_12_mjn'\n",
    "graph12.render(fn)\n",
    "\n",
    "graph12"
   ]
  },
  {
   "cell_type": "code",
   "execution_count": null,
   "metadata": {},
   "outputs": [],
   "source": [
    "cluster_idx = 8\n",
    "dend_start, dend_stop, cluster_hap_indices = cluster_spans_995F[cluster_idx]\n",
    "cluster_haps = h_vgsc_995F.take(cluster_hap_indices, axis=1)\n",
    "cluster_hap_pops = hap_pops_995F[cluster_hap_indices]\n",
    "cluster_hap_colors = np.array([pop_colors[p] for p in cluster_hap_pops])\n",
    "graph8 = hapclust.graph_haplotype_network(cluster_haps, hap_colors=cluster_hap_colors, mode='KK', \n",
    "                                          network_method='mjn',edge_weight=12, overlap=True, splines=False,\n",
    "                                          show_node_labels=10000, fontsize='12', \n",
    "                                          variant_labels=variant_labels_vgsc, max_dist=4)\n",
    "\n",
    "graph8.format = 'svg'\n",
    "fn = '/home/chris/Git/agam-vgsc-report/artwork/995F_cluster_8_mjn'\n",
    "graph8.render(fn)\n",
    "\n",
    "graph8"
   ]
  },
  {
   "cell_type": "code",
   "execution_count": null,
   "metadata": {},
   "outputs": [],
   "source": [
    "cluster_idx = 7\n",
    "dend_start, dend_stop, cluster_hap_indices = cluster_spans_995F[cluster_idx]\n",
    "cluster_haps = h_vgsc_995F.take(cluster_hap_indices, axis=1)\n",
    "cluster_hap_pops = hap_pops_995F[cluster_hap_indices]\n",
    "cluster_hap_colors = np.array([pop_colors[p] for p in cluster_hap_pops])\n",
    "graph7 = hapclust.graph_haplotype_network(cluster_haps, hap_colors=cluster_hap_colors, mode='KK', \n",
    "                                          network_method='mjn',edge_weight=12, overlap=True, splines=False,\n",
    "                                          show_node_labels=10000, fontsize='12', \n",
    "                                          variant_labels=variant_labels_vgsc, max_dist=4)\n",
    "\n",
    "graph7.format = 'svg'\n",
    "fn = '/home/chris/Git/agam-vgsc-report/artwork/995F_cluster_7_mjn'\n",
    "graph7.render(fn)\n",
    "\n",
    "graph7"
   ]
  },
  {
   "cell_type": "code",
   "execution_count": null,
   "metadata": {},
   "outputs": [],
   "source": [
    "cluster_idx = 4\n",
    "dend_start, dend_stop, cluster_hap_indices = cluster_spans_995F[cluster_idx]\n",
    "cluster_haps = h_vgsc_995F.take(cluster_hap_indices, axis=1)\n",
    "cluster_hap_pops = hap_pops_995F[cluster_hap_indices]\n",
    "cluster_hap_colors = np.array([pop_colors[p] for p in cluster_hap_pops])\n",
    "graph4 = hapclust.graph_haplotype_network(cluster_haps, hap_colors=cluster_hap_colors, mode='KK', \n",
    "                                 network_method='mjn',edge_weight=12, overlap=True, splines=False,\n",
    "                                 show_node_labels=10000, fontsize='12', \n",
    "                                 variant_labels=variant_labels_vgsc, max_dist=4)\n",
    "\n",
    "graph4.format = 'svg'\n",
    "fn = '/home/chris/Git/agam-vgsc-report/artwork/995F_cluster_4_mjn'\n",
    "graph4.render(fn)\n",
    "\n",
    "graph4"
   ]
  },
  {
   "cell_type": "markdown",
   "metadata": {},
   "source": [
    "- 995S"
   ]
  },
  {
   "cell_type": "code",
   "execution_count": null,
   "metadata": {},
   "outputs": [],
   "source": [
    "cluster_idx = 17\n",
    "dend_start, dend_stop, cluster_hap_indices = cluster_spans_995S[cluster_idx]\n",
    "cluster_haps = h_vgsc_995S.take(cluster_hap_indices, axis=1)\n",
    "cluster_hap_pops = hap_pops_995S[cluster_hap_indices]\n",
    "cluster_hap_colors = np.array([pop_colors[p] for p in cluster_hap_pops])\n",
    "graph17 = hapclust.graph_haplotype_network(cluster_haps, hap_colors=cluster_hap_colors, mode='KK', \n",
    "                                           network_method='mjn',edge_weight=12, overlap=True, splines=False,\n",
    "                                           show_node_labels=10000, fontsize='12', \n",
    "                                           variant_labels=variant_labels_vgsc, max_dist=4)\n",
    "graph17\n",
    "\n",
    "graph17.format = 'svg'\n",
    "fn = '/home/chris/Git/agam-vgsc-report/artwork/995S_cluster_17_mjn'\n",
    "graph17.render(fn)\n",
    "\n",
    "graph17"
   ]
  },
  {
   "cell_type": "code",
   "execution_count": null,
   "metadata": {},
   "outputs": [],
   "source": [
    "cluster_idx = 14\n",
    "dend_start, dend_stop, cluster_hap_indices = cluster_spans_995S[cluster_idx]\n",
    "cluster_haps = h_vgsc_995S.take(cluster_hap_indices, axis=1)\n",
    "cluster_hap_pops = hap_pops_995S[cluster_hap_indices]\n",
    "cluster_hap_colors = np.array([pop_colors[p] for p in cluster_hap_pops])\n",
    "graph14 = hapclust.graph_haplotype_network(cluster_haps, hap_colors=cluster_hap_colors, mode='KK', \n",
    "                                           network_method='mjn',edge_weight=12, overlap=True, splines=False,\n",
    "                                           show_node_labels=10000, fontsize='12', \n",
    "                                           variant_labels=variant_labels_vgsc, max_dist=4)\n",
    "graph14\n",
    "\n",
    "graph14.format = 'svg'\n",
    "fn = '/home/chris/Git/agam-vgsc-report/artwork/995S_cluster_14_mjn'\n",
    "graph14.render(fn)\n",
    "\n",
    "graph14"
   ]
  },
  {
   "cell_type": "code",
   "execution_count": null,
   "metadata": {},
   "outputs": [],
   "source": [
    "cluster_idx = 12\n",
    "dend_start, dend_stop, cluster_hap_indices = cluster_spans_995S[cluster_idx]\n",
    "cluster_haps = h_vgsc_995S.take(cluster_hap_indices, axis=1)\n",
    "cluster_hap_pops = hap_pops_995S[cluster_hap_indices]\n",
    "cluster_hap_colors = np.array([pop_colors[p] for p in cluster_hap_pops])\n",
    "graph12 = hapclust.graph_haplotype_network(cluster_haps, hap_colors=cluster_hap_colors, mode='KK', \n",
    "                                           network_method='mjn',edge_weight=12, overlap=True, splines=False,\n",
    "                                           show_node_labels=10000, fontsize='12', \n",
    "                                           variant_labels=variant_labels_vgsc, max_dist=4)\n",
    "graph12\n",
    "\n",
    "graph12.format = 'svg'\n",
    "fn = '/home/chris/Git/agam-vgsc-report/artwork/995S_cluster_12_mjn'\n",
    "graph12.render(fn)\n",
    "\n",
    "graph12"
   ]
  },
  {
   "cell_type": "code",
   "execution_count": null,
   "metadata": {},
   "outputs": [],
   "source": [
    "cluster_idx = 9\n",
    "dend_start, dend_stop, cluster_hap_indices = cluster_spans_995S[cluster_idx]\n",
    "cluster_haps = h_vgsc_995S.take(cluster_hap_indices, axis=1)\n",
    "cluster_hap_pops = hap_pops_995S[cluster_hap_indices]\n",
    "cluster_hap_colors = np.array([pop_colors[p] for p in cluster_hap_pops])\n",
    "graph9 = hapclust.graph_haplotype_network(cluster_haps, hap_colors=cluster_hap_colors, mode='KK', \n",
    "                                           network_method='mjn',edge_weight=12, overlap=True, splines=False,\n",
    "                                           show_node_labels=10000, fontsize='12', \n",
    "                                           variant_labels=variant_labels_vgsc, max_dist=4)\n",
    "graph9\n",
    "\n",
    "graph9.format = 'svg'\n",
    "fn = '/home/chris/Git/agam-vgsc-report/artwork/995S_cluster_12_mjn'\n",
    "graph9.render(fn)\n",
    "\n",
    "graph9"
   ]
  },
  {
   "cell_type": "code",
   "execution_count": null,
   "metadata": {},
   "outputs": [],
   "source": [
    "cluster_idx = 2\n",
    "dend_start, dend_stop, cluster_hap_indices = cluster_spans_995S[cluster_idx]\n",
    "cluster_haps = h_vgsc_995S.take(cluster_hap_indices, axis=1)\n",
    "cluster_hap_pops = hap_pops_995S[cluster_hap_indices]\n",
    "cluster_hap_colors = np.array([pop_colors[p] for p in cluster_hap_pops])\n",
    "graph2 = hapclust.graph_haplotype_network(cluster_haps, hap_colors=cluster_hap_colors, mode='KK', \n",
    "                                           network_method='mjn',edge_weight=12, overlap=True, splines=False,\n",
    "                                           show_node_labels=10000, fontsize='12', \n",
    "                                           variant_labels=variant_labels_vgsc, max_dist=4)\n",
    "graph2\n",
    "\n",
    "graph2.format = 'svg'\n",
    "fn = '/home/chris/Git/agam-vgsc-report/artwork/995S_cluster_2_mjn'\n",
    "graph2.render(fn)\n",
    "\n",
    "graph2"
   ]
  },
  {
   "cell_type": "code",
   "execution_count": null,
   "metadata": {
    "collapsed": true
   },
   "outputs": [],
   "source": []
  }
 ],
 "metadata": {
  "kernelspec": {
   "display_name": "Python 3",
   "language": "python",
   "name": "python3"
  },
  "language_info": {
   "codemirror_mode": {
    "name": "ipython",
    "version": 3
   },
   "file_extension": ".py",
   "mimetype": "text/x-python",
   "name": "python",
   "nbconvert_exporter": "python",
   "pygments_lexer": "ipython3",
   "version": "3.5.3"
  }
 },
 "nbformat": 4,
 "nbformat_minor": 2
}
