{
 "cells": [
  {
   "cell_type": "code",
   "execution_count": 1,
   "metadata": {},
   "outputs": [
    {
     "data": {
      "text/html": [
       "<style type=\"text/css\">\n",
       ".container {\n",
       "    width: 100%;\n",
       "}\n",
       "#maintoolbar {\n",
       "    display: none;\n",
       "}\n",
       "#header-container {\n",
       "    display: none;\n",
       "}\n",
       "div#notebook {\n",
       "    padding-top: 0;\n",
       "}\n",
       "</style>"
      ],
      "text/plain": [
       "<IPython.core.display.HTML object>"
      ]
     },
     "metadata": {},
     "output_type": "display_data"
    }
   ],
   "source": [
    "%run setup.ipynb"
   ]
  },
  {
   "cell_type": "code",
   "execution_count": 2,
   "metadata": {},
   "outputs": [
    {
     "data": {
      "text/html": [
       "<table class='petl'>\n",
       "<thead>\n",
       "<tr>\n",
       "<th>0|foo</th>\n",
       "<th>1|bar</th>\n",
       "<th>2|baz</th>\n",
       "</tr>\n",
       "</thead>\n",
       "<tbody>\n",
       "<tr>\n",
       "<td style='text-align: right'>1</td>\n",
       "<td>a</td>\n",
       "<td>True</td>\n",
       "</tr>\n",
       "<tr>\n",
       "<td style='text-align: right'>2</td>\n",
       "<td>b</td>\n",
       "<td>False</td>\n",
       "</tr>\n",
       "</tbody>\n",
       "</table>\n"
      ],
      "text/plain": [
       "+-----+-----+-------+\n",
       "| foo | bar | baz   |\n",
       "+=====+=====+=======+\n",
       "|   1 | 'a' | True  |\n",
       "+-----+-----+-------+\n",
       "|   2 | 'b' | False |\n",
       "+-----+-----+-------+"
      ]
     },
     "execution_count": 2,
     "metadata": {},
     "output_type": "execute_result"
    }
   ],
   "source": [
    "tbl = etl.wrap(\n",
    "    [['foo', 'bar', 'baz'],\n",
    "     [1, 'a', True],\n",
    "     [2, 'b', False]]\n",
    ")\n",
    "tbl"
   ]
  },
  {
   "cell_type": "code",
   "execution_count": 3,
   "metadata": {},
   "outputs": [],
   "source": [
    "prologue = r\"\"\"\n",
    "\\begin{tabular}{rll}\n",
    "\\toprule\n",
    "Foo & Bar & Baz \\\\\n",
    "\\midrule\n",
    "\"\"\"\n",
    "template = r\"\"\"\n",
    "{foo} & {bar} & {baz} \\\\\n",
    "\"\"\"\n",
    "epilogue = r\"\"\"\n",
    "\\bottomrule\n",
    "\\end{tabular}\n",
    "\"\"\"\n",
    "tbl.totext('../tables/demo.tex', \n",
    "           encoding='ascii',\n",
    "           prologue=prologue, \n",
    "           template=template,\n",
    "           epilogue=epilogue)"
   ]
  },
  {
   "cell_type": "code",
   "execution_count": 4,
   "metadata": {},
   "outputs": [
    {
     "name": "stdout",
     "output_type": "stream",
     "text": [
      "\r\n",
      "\\begin{tabular}{rll}\r\n",
      "\\toprule\r\n",
      "Foo & Bar & Baz \\\\\r\n",
      "\\midrule\r\n",
      "\r\n",
      "1 & a & True \\\\\r\n",
      "\r\n",
      "2 & b & False \\\\\r\n",
      "\r\n",
      "\\bottomrule\r\n",
      "\\end{tabular}\r\n"
     ]
    }
   ],
   "source": [
    "!cat ../tables/demo.tex"
   ]
  },
  {
   "cell_type": "code",
   "execution_count": null,
   "metadata": {
    "collapsed": true
   },
   "outputs": [],
   "source": []
  }
 ],
 "metadata": {
  "kernelspec": {
   "display_name": "Python 3",
   "language": "python",
   "name": "python3"
  },
  "language_info": {
   "codemirror_mode": {
    "name": "ipython",
    "version": 3
   },
   "file_extension": ".py",
   "mimetype": "text/x-python",
   "name": "python",
   "nbconvert_exporter": "python",
   "pygments_lexer": "ipython3",
   "version": "3.5.4"
  }
 },
 "nbformat": 4,
 "nbformat_minor": 2
}
