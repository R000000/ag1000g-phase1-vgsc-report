{
 "cells": [
  {
   "cell_type": "code",
   "execution_count": 1,
   "metadata": {},
   "outputs": [
    {
     "data": {
      "text/html": [
       "<style type=\"text/css\">\n",
       ".container {\n",
       "    width: 100%;\n",
       "}\n",
       "div#notebook {\n",
       "    padding-top: 1em;\n",
       "}\n",
       "#header-container {\n",
       "    display: none;\n",
       "}\n",
       "#header-bar {\n",
       "    display: none;\n",
       "}\n",
       "#maintoolbar {\n",
       "    display: none;\n",
       "}\n",
       "#menubar-container {\n",
       "    position: fixed;\n",
       "    margin-top: 0;\n",
       "}\n",
       "#site {\n",
       "    height: auto !important;\n",
       "}\n",
       "</style>"
      ],
      "text/plain": [
       "<IPython.core.display.HTML object>"
      ]
     },
     "metadata": {},
     "output_type": "display_data"
    }
   ],
   "source": [
    "%run setup.ipynb\n",
    "%matplotlib inline\n",
    "# import hapclust\n",
    "%reload_ext autoreload\n",
    "%autoreload 1\n",
    "%aimport hapclust"
   ]
  },
  {
   "cell_type": "code",
   "execution_count": 7,
   "metadata": {},
   "outputs": [],
   "source": [
    "# obtain data from unphased callset - only needed for variant annotations\n",
    "callset_pass = phase1_ar31.callset_pass\n",
    "pos_pass = allel.SortedIndex(callset_pass['2L/variants/POS'])\n",
    "ann_pass = callset_pass['2L/variants/ANN'][:][['Annotation', 'HGVS_p']]"
   ]
  },
  {
   "cell_type": "code",
   "execution_count": 8,
   "metadata": {
    "collapsed": true
   },
   "outputs": [],
   "source": [
    "# setup haplotype data\n",
    "callset_phased = phase1_ar31.callset_phased\n",
    "genotypes_phased = allel.GenotypeDaskArray(callset_phased['2L/calldata/genotype'])\n",
    "pos_phased = allel.SortedIndex(callset_phased['2L/variants/POS'])"
   ]
  },
  {
   "cell_type": "code",
   "execution_count": 9,
   "metadata": {
    "collapsed": true
   },
   "outputs": [],
   "source": [
    "pos_kdr_s = 2422651\n",
    "pos_kdr_f = 2422652"
   ]
  },
  {
   "cell_type": "code",
   "execution_count": 10,
   "metadata": {},
   "outputs": [
    {
     "data": {
      "text/html": [
       "<div class=\"allel allel-DisplayAs1D\"><span>&lt;SortedIndex shape=(163963,) dtype=int32&gt;</span><table><thead><tr><th style=\"text-align: center\">0</th><th style=\"text-align: center\">1</th><th style=\"text-align: center\">2</th><th style=\"text-align: center\">3</th><th style=\"text-align: center\">4</th><th style=\"text-align: center\">...</th><th style=\"text-align: center\">163958</th><th style=\"text-align: center\">163959</th><th style=\"text-align: center\">163960</th><th style=\"text-align: center\">163961</th><th style=\"text-align: center\">163962</th></tr></thead><tbody><tr><td style=\"text-align: center\">44688</td><td style=\"text-align: center\">44691</td><td style=\"text-align: center\">44732</td><td style=\"text-align: center\">44736</td><td style=\"text-align: center\">44756</td><td style=\"text-align: center\">...</td><td style=\"text-align: center\">3997372</td><td style=\"text-align: center\">3997373</td><td style=\"text-align: center\">3997378</td><td style=\"text-align: center\">3997381</td><td style=\"text-align: center\">3997386</td></tr></tbody></table></div>"
      ],
      "text/plain": [
       "<SortedIndex shape=(163963,) dtype=int32>\n",
       "[44688, 44691, 44732, 44736, 44756, ..., 3997372, 3997373, 3997378, 3997381, 3997386]"
      ]
     },
     "execution_count": 10,
     "metadata": {},
     "output_type": "execute_result"
    }
   ],
   "source": [
    "# define region we're going to analyse\n",
    "loc_region = pos_phased.locate_range(0, 4000000)\n",
    "pos_phased_region = pos_phased[loc_region]\n",
    "pos_phased_region"
   ]
  },
  {
   "cell_type": "code",
   "execution_count": 11,
   "metadata": {},
   "outputs": [
    {
     "data": {
      "text/plain": [
       "163963"
      ]
     },
     "execution_count": 11,
     "metadata": {},
     "output_type": "execute_result"
    }
   ],
   "source": [
    "# locate the intersection with unphased callset - needed to tie in annotations\n",
    "loc1, _ = pos_pass.locate_intersection(pos_phased_region)\n",
    "np.count_nonzero(loc1)"
   ]
  },
  {
   "cell_type": "code",
   "execution_count": 12,
   "metadata": {},
   "outputs": [
    {
     "data": {
      "text/plain": [
       "array([(b'intergenic_region', b'.'), (b'intergenic_region', b'.'),\n",
       "       (b'intergenic_region', b'.'), ...,\n",
       "       (b'downstream_gene_variant', b'.'),\n",
       "       (b'downstream_gene_variant', b'.'),\n",
       "       (b'downstream_gene_variant', b'.')], \n",
       "      dtype=[('Annotation', 'S34'), ('HGVS_p', 'S14')])"
      ]
     },
     "execution_count": 12,
     "metadata": {},
     "output_type": "execute_result"
    }
   ],
   "source": [
    "ann_phased_region = ann_pass[loc1]\n",
    "ann_phased_region"
   ]
  },
  {
   "cell_type": "code",
   "execution_count": 13,
   "metadata": {
    "collapsed": true
   },
   "outputs": [],
   "source": [
    "# exclude cross parents\n",
    "haps_phased_region = genotypes_phased[loc_region].to_haplotypes()[:, :-16].compute()"
   ]
  },
  {
   "cell_type": "code",
   "execution_count": 14,
   "metadata": {
    "collapsed": true
   },
   "outputs": [],
   "source": [
    "# perform allele count - needed to locate singletons\n",
    "ac_phased_region = haps_phased_region.count_alleles(max_allele=1)"
   ]
  },
  {
   "cell_type": "code",
   "execution_count": 15,
   "metadata": {},
   "outputs": [
    {
     "data": {
      "text/plain": [
       "(156848, (163963,))"
      ]
     },
     "execution_count": 15,
     "metadata": {},
     "output_type": "execute_result"
    }
   ],
   "source": [
    "# define types of variants to include in EHH analysis - should be mostly neutral\n",
    "loc_type_neutral = ((ann_phased_region['Annotation'] == b'intergenic_region') | \n",
    "                    (ann_phased_region['Annotation'] == b'intron_variant') |\n",
    "                    (ann_phased_region['Annotation'] == b'downstream_gene_variant') |\n",
    "                    (ann_phased_region['Annotation'] == b'upstream_gene_variant') |\n",
    "                    (ann_phased_region['Annotation'] == b'synonymous_variant') |\n",
    "                    (ann_phased_region['Annotation'] == b'3_prime_UTR_variant') |\n",
    "                    (ann_phased_region['Annotation'] == b'5_prime_UTR_variant') \n",
    "                    )\n",
    "np.count_nonzero(loc_type_neutral), loc_type_neutral.shape"
   ]
  },
  {
   "cell_type": "code",
   "execution_count": 16,
   "metadata": {},
   "outputs": [
    {
     "data": {
      "text/plain": [
       "(52221, 111611, (163963,))"
      ]
     },
     "execution_count": 16,
     "metadata": {},
     "output_type": "execute_result"
    }
   ],
   "source": [
    "# locate singletons - will exclude from EHH analysis\n",
    "loc_sgl = ac_phased_region.min(axis=1) == 1\n",
    "loc_nosgl = ac_phased_region.min(axis=1) > 1\n",
    "np.count_nonzero(loc_sgl), np.count_nonzero(loc_nosgl), loc_nosgl.shape"
   ]
  },
  {
   "cell_type": "code",
   "execution_count": 17,
   "metadata": {},
   "outputs": [
    {
     "data": {
      "text/plain": [
       "(107531, (163963,))"
      ]
     },
     "execution_count": 17,
     "metadata": {},
     "output_type": "execute_result"
    }
   ],
   "source": [
    "# these are the variants to use for EHH\n",
    "loc_ehh = loc_type_neutral & loc_nosgl\n",
    "np.count_nonzero(loc_ehh), loc_ehh.shape"
   ]
  },
  {
   "cell_type": "code",
   "execution_count": 18,
   "metadata": {
    "collapsed": true
   },
   "outputs": [],
   "source": [
    "haps_ehh = haps_phased_region[loc_ehh]\n",
    "pos_ehh = pos_phased_region[loc_ehh]"
   ]
  },
  {
   "cell_type": "code",
   "execution_count": 19,
   "metadata": {
    "collapsed": true
   },
   "outputs": [],
   "source": [
    "core_pos = pos_kdr_f"
   ]
  },
  {
   "cell_type": "code",
   "execution_count": 20,
   "metadata": {
    "collapsed": true
   },
   "outputs": [],
   "source": [
    "# split the EHH dataset\n",
    "dist_ehh_right, dist_ehh_left, haps_ehh_right, haps_ehh_left = hapclust.split_flanks(\n",
    "    haps_ehh, pos_ehh, core_pos\n",
    ")"
   ]
  },
  {
   "cell_type": "code",
   "execution_count": 22,
   "metadata": {
    "collapsed": true
   },
   "outputs": [],
   "source": [
    "def reconstruct_ancestral_haplotype(haps_flank):\n",
    "    \n",
    "    # setup intermediates and outputs\n",
    "    n_variants, n_haplotypes = haps_flank.shape\n",
    "    clust_anc = np.ones(n_haplotypes, dtype=bool)\n",
    "    ac = np.zeros(2, dtype=int)\n",
    "    hap_anc = np.full(n_variants, dtype='i1', fill_value=-1)\n",
    "    \n",
    "    # iterate over variants\n",
    "    for i in range(n_variants):\n",
    "                \n",
    "        # first count alleles within the ancestral cluster\n",
    "        ac[:] = 0  # reset\n",
    "        for j in range(n_haplotypes):\n",
    "            if clust_anc[j]:\n",
    "                allele = haps_flank[i, j]\n",
    "                if allele >= 0:\n",
    "                    ac[allele] += 1\n",
    "                    \n",
    "        # find ancestral allele\n",
    "        if ac[0] >= ac[1]:\n",
    "            # if tie, assume reference\n",
    "            anc_allele = 0\n",
    "            der_allele = 1\n",
    "        else:\n",
    "            anc_allele = 1\n",
    "            der_allele = 0\n",
    "        # patch into ancestral haplotype\n",
    "        hap_anc[i, j] = anc_allele\n",
    "\n",
    "        # detect bifurcation\n",
    "        if ac[0] > 0 and ac[1] > 0:\n",
    "            n_anc = 0\n",
    "            # split cluster\n",
    "            if j in range(n_haplotypes):\n",
    "                if clust_anc[j]:\n",
    "                    if haps_flank[i, j] == der_allele:\n",
    "                        clust_anc[j] = False\n",
    "                    else:\n",
    "                        n_anc += 1\n",
    "        if n_anc < 2:\n",
    "            break\n",
    "            \n",
    "    return hap_anc\n"
   ]
  },
  {
   "cell_type": "code",
   "execution_count": 26,
   "metadata": {},
   "outputs": [
    {
     "data": {
      "text/plain": [
       "['F1', 'F2', 'F3', 'F4', 'F5', 'L1', 'L2', 'S1', 'S2', 'S3', 'S4']"
      ]
     },
     "execution_count": 26,
     "metadata": {},
     "output_type": "execute_result"
    }
   ],
   "source": [
    "import pickle\n",
    "with open('../data/clust_dict.pickle', 'rb') as handle:\n",
    "    vgsc_haplogroups = pickle.load(handle) \n",
    "sorted(vgsc_haplogroups.keys())"
   ]
  },
  {
   "cell_type": "code",
   "execution_count": null,
   "metadata": {
    "collapsed": true
   },
   "outputs": [],
   "source": [
    "# TODO merge in PR which fixes haplogroup names"
   ]
  },
  {
   "cell_type": "code",
   "execution_count": 28,
   "metadata": {},
   "outputs": [
    {
     "data": {
      "text/html": [
       "<div class=\"allel allel-DisplayAs2D\"><span>&lt;HaplotypeArray shape=(91777, 42) dtype=int8&gt;</span><table><thead><tr><th></th><th style=\"text-align: center\">0</th><th style=\"text-align: center\">1</th><th style=\"text-align: center\">2</th><th style=\"text-align: center\">3</th><th style=\"text-align: center\">4</th><th style=\"text-align: center\">...</th><th style=\"text-align: center\">37</th><th style=\"text-align: center\">38</th><th style=\"text-align: center\">39</th><th style=\"text-align: center\">40</th><th style=\"text-align: center\">41</th></tr></thead><tbody><tr><th style=\"text-align: center; background-color: white; border-right: 1px solid black; \">0</th><td style=\"text-align: center\">0</td><td style=\"text-align: center\">0</td><td style=\"text-align: center\">0</td><td style=\"text-align: center\">0</td><td style=\"text-align: center\">0</td><td style=\"text-align: center\">...</td><td style=\"text-align: center\">0</td><td style=\"text-align: center\">0</td><td style=\"text-align: center\">0</td><td style=\"text-align: center\">0</td><td style=\"text-align: center\">0</td></tr><tr><th style=\"text-align: center; background-color: white; border-right: 1px solid black; \">1</th><td style=\"text-align: center\">0</td><td style=\"text-align: center\">0</td><td style=\"text-align: center\">0</td><td style=\"text-align: center\">0</td><td style=\"text-align: center\">0</td><td style=\"text-align: center\">...</td><td style=\"text-align: center\">0</td><td style=\"text-align: center\">0</td><td style=\"text-align: center\">0</td><td style=\"text-align: center\">0</td><td style=\"text-align: center\">0</td></tr><tr><th style=\"text-align: center; background-color: white; border-right: 1px solid black; \">2</th><td style=\"text-align: center\">1</td><td style=\"text-align: center\">1</td><td style=\"text-align: center\">1</td><td style=\"text-align: center\">1</td><td style=\"text-align: center\">1</td><td style=\"text-align: center\">...</td><td style=\"text-align: center\">1</td><td style=\"text-align: center\">1</td><td style=\"text-align: center\">1</td><td style=\"text-align: center\">1</td><td style=\"text-align: center\">1</td></tr><tr><th style=\"text-align: center; background-color: white; border-right: 1px solid black; \">...</th><td style=\"text-align: center\" colspan=\"12\">...</td></tr><tr><th style=\"text-align: center; background-color: white; border-right: 1px solid black; \">91774</th><td style=\"text-align: center\">0</td><td style=\"text-align: center\">0</td><td style=\"text-align: center\">0</td><td style=\"text-align: center\">0</td><td style=\"text-align: center\">0</td><td style=\"text-align: center\">...</td><td style=\"text-align: center\">0</td><td style=\"text-align: center\">0</td><td style=\"text-align: center\">0</td><td style=\"text-align: center\">0</td><td style=\"text-align: center\">0</td></tr><tr><th style=\"text-align: center; background-color: white; border-right: 1px solid black; \">91775</th><td style=\"text-align: center\">0</td><td style=\"text-align: center\">0</td><td style=\"text-align: center\">0</td><td style=\"text-align: center\">0</td><td style=\"text-align: center\">0</td><td style=\"text-align: center\">...</td><td style=\"text-align: center\">0</td><td style=\"text-align: center\">0</td><td style=\"text-align: center\">0</td><td style=\"text-align: center\">0</td><td style=\"text-align: center\">0</td></tr><tr><th style=\"text-align: center; background-color: white; border-right: 1px solid black; \">91776</th><td style=\"text-align: center\">0</td><td style=\"text-align: center\">0</td><td style=\"text-align: center\">0</td><td style=\"text-align: center\">0</td><td style=\"text-align: center\">0</td><td style=\"text-align: center\">...</td><td style=\"text-align: center\">0</td><td style=\"text-align: center\">0</td><td style=\"text-align: center\">0</td><td style=\"text-align: center\">0</td><td style=\"text-align: center\">0</td></tr></tbody></table></div>"
      ],
      "text/plain": [
       "<HaplotypeArray shape=(91777, 42) dtype=int8>\n",
       "0 0 0 0 0 ... 0 0 0 0 0\n",
       "0 0 0 0 0 ... 0 0 0 0 0\n",
       "1 1 1 1 1 ... 1 1 1 1 1\n",
       "...\n",
       "0 0 0 0 0 ... 0 0 0 0 0\n",
       "0 0 0 0 0 ... 0 0 0 0 0\n",
       "0 0 0 0 0 ... 0 0 0 0 0"
      ]
     },
     "execution_count": 28,
     "metadata": {},
     "output_type": "execute_result"
    }
   ],
   "source": [
    "haps_f1_right = haps_ehh_right.take(list(vgsc_haplogroups['F1']), axis=1)\n",
    "haps_f1_right"
   ]
  },
  {
   "cell_type": "code",
   "execution_count": null,
   "metadata": {
    "collapsed": true
   },
   "outputs": [],
   "source": []
  }
 ],
 "metadata": {
  "kernelspec": {
   "display_name": "Python 3",
   "language": "python",
   "name": "python3"
  },
  "language_info": {
   "codemirror_mode": {
    "name": "ipython",
    "version": 3
   },
   "file_extension": ".py",
   "mimetype": "text/x-python",
   "name": "python",
   "nbconvert_exporter": "python",
   "pygments_lexer": "ipython3",
   "version": "3.5.3"
  }
 },
 "nbformat": 4,
 "nbformat_minor": 2
}
