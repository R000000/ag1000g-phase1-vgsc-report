{
 "cells": [
  {
   "cell_type": "markdown",
   "metadata": {},
   "source": [
    "# Paper 1 artwork - Figure 5 (VGSC haplotype structure)"
   ]
  },
  {
   "cell_type": "markdown",
   "metadata": {},
   "source": [
    "genome-wide phasing only"
   ]
  },
  {
   "cell_type": "markdown",
   "metadata": {},
   "source": [
    "## Setup"
   ]
  },
  {
   "cell_type": "code",
   "execution_count": 82,
   "metadata": {},
   "outputs": [
    {
     "data": {
      "text/html": [
       "<style type=\"text/css\">\n",
       ".container {\n",
       "    width: 100%;\n",
       "}\n",
       "div#notebook {\n",
       "    padding-top: 1em;\n",
       "}\n",
       "#header-container {\n",
       "    display: none;\n",
       "}\n",
       "#header-bar {\n",
       "    display: none;\n",
       "}\n",
       "#maintoolbar {\n",
       "    display: none;\n",
       "}\n",
       "#menubar-container {\n",
       "    position: fixed;\n",
       "    margin-top: 0;\n",
       "}\n",
       "#site {\n",
       "    height: auto !important;\n",
       "}\n",
       "</style>"
      ],
      "text/plain": [
       "<IPython.core.display.HTML object>"
      ]
     },
     "metadata": {},
     "output_type": "display_data"
    }
   ],
   "source": [
    "%run setup.ipynb\n",
    "%matplotlib inline"
   ]
  },
  {
   "cell_type": "code",
   "execution_count": 83,
   "metadata": {
    "collapsed": true
   },
   "outputs": [],
   "source": [
    "from scipy.cluster.hierarchy import _convert_to_double\n",
    "from scipy.spatial import distance\n",
    "from scipy.cluster.hierarchy import _hierarchy"
   ]
  },
  {
   "cell_type": "code",
   "execution_count": 84,
   "metadata": {
    "collapsed": true
   },
   "outputs": [],
   "source": [
    "# define the gene region\n",
    "region = 'PARA'\n",
    "region_vgsc = '2L', 2358158, 2431617"
   ]
  },
  {
   "cell_type": "code",
   "execution_count": 85,
   "metadata": {},
   "outputs": [
    {
     "data": {
      "text/plain": [
       "<HDF5 file \"ag1000g.phase1.ar3.1.haplotypes.h5\" (mode r)>"
      ]
     },
     "execution_count": 85,
     "metadata": {},
     "output_type": "execute_result"
    }
   ],
   "source": [
    "callset_phased = phase1_ar31.callset_phased\n",
    "callset_phased"
   ]
  },
  {
   "cell_type": "code",
   "execution_count": 86,
   "metadata": {
    "collapsed": true
   },
   "outputs": [],
   "source": [
    "prot_code_dict = {\n",
    "    'Ala' : 'A',\n",
    "    'Arg' : 'R',\n",
    "    'Asn' : 'N',\n",
    "    'Asp' : 'D',\n",
    "    'Asx' : 'B',\n",
    "    'Cys' : 'C',\n",
    "    'Glu' : 'E',\n",
    "    'Gln' : 'Q',\n",
    "    'Glx' : 'Z',\n",
    "    'Gly' : 'G',\n",
    "    'His' : 'H',\n",
    "    'Ile' : 'I',\n",
    "    'Leu' : 'L',\n",
    "    'Lys' : 'K',\n",
    "    'Met' : 'M',\n",
    "    'Phe' : 'F',\n",
    "    'Pro' : 'P',\n",
    "    'Ser' : 'S',\n",
    "    'Thr' : 'T',\n",
    "    'Trp' : 'W',\n",
    "    'Tyr' : 'Y',\n",
    "    'Val' : 'V'\n",
    "    }"
   ]
  },
  {
   "cell_type": "code",
   "execution_count": 87,
   "metadata": {
    "collapsed": true
   },
   "outputs": [],
   "source": [
    "def load_data(callset_phased, chrom, start=None, stop=None, n_variants=None):\n",
    "\n",
    "    # load variant positions \n",
    "    pos = allel.SortedIndex(callset_phased[chrom]['variants']['POS'][:])\n",
    "    \n",
    "    # locate the region of interest\n",
    "    if start and stop:\n",
    "        loc = pos.locate_range(start, stop)\n",
    "    elif start and n_variants:\n",
    "        start_idx = bisect.bisect_left(pos, start)\n",
    "        stop_idx = start_idx + n_variants\n",
    "        loc = slice(start_idx, stop_idx)\n",
    "    elif stop and n_variants:\n",
    "        stop_idx = bisect.bisect_right(pos, stop)\n",
    "        start_idx = stop_idx - n_variants\n",
    "        loc = slice(start_idx, stop_idx)\n",
    "    else:\n",
    "        raise ValueError('bad args')\n",
    "    \n",
    "    # obtain haplotypes for the region of interest\n",
    "    pos = pos[loc]\n",
    "    g = allel.GenotypeArray(callset_phased[chrom]['calldata']['genotype'][loc])\n",
    "    h = g.to_haplotypes()\n",
    "    \n",
    "    # remove colony individuals\n",
    "    # we can use this cheat instead of .take because we know that the last 16 haps are colony\n",
    "    h = h[:, :-16]\n",
    "    \n",
    "    # grab the whole original (unfiltered) data set\n",
    "    callset = phase1_ar31.callset\n",
    "\n",
    "    # setup variant table using the original data whole chromo arm\n",
    "    vtbl = allel.VariantChunkedTable(callset[chrom]['variants'],\n",
    "                                     names=['POS', 'REF', 'ALT', 'num_alleles', 'AC', 'AF', 'FILTER_PASS', 'ANN'],\n",
    "                                     index='POS')\n",
    "\n",
    "    # need to find intersect of positions from phased section and the original data - produce a boolean array\n",
    "    # length=original data and compress the chunked table accordingly\n",
    "\n",
    "    vtbl_pos = allel.SortedIndex(vtbl['POS'])\n",
    "    loc_isec = vtbl_pos.locate_intersection(pos)[0]\n",
    "\n",
    "    # this produceds the variants corresponding to the haplotypes\n",
    "    vtbl_isec = vtbl.compress(loc_isec)[:]\n",
    "    vtbl_isec.set_index('POS')\n",
    "\n",
    "    # some diagnostics\n",
    "    x = vtbl_isec.ANN['Annotation_Impact'][:]\n",
    "    print(collections.Counter(x))\n",
    "    x = vtbl_isec.ANN['Annotation'][:]\n",
    "    print(collections.Counter(x))\n",
    "\n",
    "    # find missense variants at some appreciable frequency\n",
    "    vtbl_missense = vtbl_isec.query(\n",
    "        '(AC[:, 0] > 7) & '\n",
    "        '(ANN[\"Annotation\"] != b\"synonymous_variant\") & '\n",
    "        '(ANN[\"Annotation\"] != b\"splice_region_variant&intron_varia\") & '\n",
    "        '(ANN[\"Annotation\"] != b\"splice_region_variant&synonymous_v\") & '\n",
    "        '(ANN[\"Annotation\"] != b\"intron_variant\") & '\n",
    "        '(ANN[\"Annotation\"] != b\"dwnstream_gene_variant\") & '\n",
    "        '(ANN[\"Annotation\"] != b\"upstream_gene_variant\")'\n",
    "        ,\n",
    "        vm='python')\n",
    "\n",
    "    # extract positions for the missense variants\n",
    "    pos_missense = vtbl_missense.POS[:]\n",
    "\n",
    "    # locate the missense variants within the gene\n",
    "    loc_missense = vtbl_isec.index.locate_keys(pos_missense)\n",
    "\n",
    "    # extract haplotypes for the missense variants\n",
    "    h_missense = h.compress(loc_missense, axis=0)\n",
    "\n",
    "    # labels for the missense mustations\n",
    "#     missense_mutations_ = ['%s (%s)' % (str(t, 'ascii')[2:], str(s, 'ascii')[2:]) \n",
    "#                            for s, t in zip(vtbl_missense['ANN'][:]['HGVS_c'], vtbl_missense['ANN'][:]['HGVS_p'])]\n",
    "    missense_mutations_ = ['%s' % str(t, 'ascii')[2:] \n",
    "                           for t in vtbl_missense['ANN'][:]['HGVS_p']]\n",
    "\n",
    "    missense_mutations = []\n",
    "    for v in missense_mutations_:\n",
    "        for a in prot_code_dict.keys():\n",
    "            v = v.replace(a, prot_code_dict[a])\n",
    "        missense_mutations.append(v)\n",
    "    \n",
    "    return pos, h, h_missense, missense_mutations"
   ]
  },
  {
   "cell_type": "code",
   "execution_count": 88,
   "metadata": {},
   "outputs": [
    {
     "name": "stdout",
     "output_type": "stream",
     "text": [
      "Counter({b'MODIFIER': 1607, b'LOW': 58, b'MODERATE': 45})\n",
      "Counter({b'intron_variant': 1607, b'synonymous_variant': 48, b'missense_variant': 44, b'splice_region_variant&intron_varia': 8, b'splice_region_variant&synonymous_v': 2, b'missense_variant&splice_region_var': 1})\n"
     ]
    }
   ],
   "source": [
    "pos, h, h_missense, missense_mutations = \\\n",
    "    load_data(callset_phased, *region_vgsc)"
   ]
  },
  {
   "cell_type": "code",
   "execution_count": 89,
   "metadata": {},
   "outputs": [
    {
     "name": "stdout",
     "output_type": "stream",
     "text": [
      "Counter({b'MODIFIER': 1557, b'LOW': 105, b'MODERATE': 47, b'HIGH': 1})\n",
      "Counter({b'intergenic_region': 1071, b'upstream_gene_variant': 249, b'downstream_gene_variant': 161, b'synonymous_variant': 95, b'intron_variant': 51, b'missense_variant': 47, b'5_prime_UTR_variant': 16, b'3_prime_UTR_variant': 9, b'splice_region_variant&intron_varia': 6, b'splice_region_variant&synonymous_v': 3, b'start_lost': 1, b'5_prime_UTR_premature_start_codon_': 1})\n"
     ]
    },
    {
     "data": {
      "text/html": [
       "<div class=\"allel allel-DisplayAs2D\"><span>&lt;HaplotypeArray shape=(1710, 1530) dtype=int8&gt;</span><table><thead><tr><th></th><th style=\"text-align: center\">0</th><th style=\"text-align: center\">1</th><th style=\"text-align: center\">2</th><th style=\"text-align: center\">3</th><th style=\"text-align: center\">4</th><th style=\"text-align: center\">...</th><th style=\"text-align: center\">1525</th><th style=\"text-align: center\">1526</th><th style=\"text-align: center\">1527</th><th style=\"text-align: center\">1528</th><th style=\"text-align: center\">1529</th></tr></thead><tbody><tr><th style=\"text-align: center; background-color: white; border-right: 1px solid black; \">0</th><td style=\"text-align: center\">0</td><td style=\"text-align: center\">0</td><td style=\"text-align: center\">0</td><td style=\"text-align: center\">0</td><td style=\"text-align: center\">0</td><td style=\"text-align: center\">...</td><td style=\"text-align: center\">0</td><td style=\"text-align: center\">0</td><td style=\"text-align: center\">0</td><td style=\"text-align: center\">0</td><td style=\"text-align: center\">0</td></tr><tr><th style=\"text-align: center; background-color: white; border-right: 1px solid black; \">1</th><td style=\"text-align: center\">0</td><td style=\"text-align: center\">0</td><td style=\"text-align: center\">0</td><td style=\"text-align: center\">0</td><td style=\"text-align: center\">0</td><td style=\"text-align: center\">...</td><td style=\"text-align: center\">0</td><td style=\"text-align: center\">0</td><td style=\"text-align: center\">0</td><td style=\"text-align: center\">0</td><td style=\"text-align: center\">0</td></tr><tr><th style=\"text-align: center; background-color: white; border-right: 1px solid black; \">2</th><td style=\"text-align: center\">0</td><td style=\"text-align: center\">0</td><td style=\"text-align: center\">0</td><td style=\"text-align: center\">0</td><td style=\"text-align: center\">0</td><td style=\"text-align: center\">...</td><td style=\"text-align: center\">0</td><td style=\"text-align: center\">0</td><td style=\"text-align: center\">0</td><td style=\"text-align: center\">0</td><td style=\"text-align: center\">0</td></tr><tr><th style=\"text-align: center; background-color: white; border-right: 1px solid black; \">...</th><td style=\"text-align: center\" colspan=\"12\">...</td></tr><tr><th style=\"text-align: center; background-color: white; border-right: 1px solid black; \">1707</th><td style=\"text-align: center\">0</td><td style=\"text-align: center\">0</td><td style=\"text-align: center\">0</td><td style=\"text-align: center\">0</td><td style=\"text-align: center\">0</td><td style=\"text-align: center\">...</td><td style=\"text-align: center\">0</td><td style=\"text-align: center\">0</td><td style=\"text-align: center\">0</td><td style=\"text-align: center\">0</td><td style=\"text-align: center\">0</td></tr><tr><th style=\"text-align: center; background-color: white; border-right: 1px solid black; \">1708</th><td style=\"text-align: center\">0</td><td style=\"text-align: center\">0</td><td style=\"text-align: center\">0</td><td style=\"text-align: center\">0</td><td style=\"text-align: center\">0</td><td style=\"text-align: center\">...</td><td style=\"text-align: center\">0</td><td style=\"text-align: center\">0</td><td style=\"text-align: center\">0</td><td style=\"text-align: center\">0</td><td style=\"text-align: center\">0</td></tr><tr><th style=\"text-align: center; background-color: white; border-right: 1px solid black; \">1709</th><td style=\"text-align: center\">0</td><td style=\"text-align: center\">0</td><td style=\"text-align: center\">0</td><td style=\"text-align: center\">0</td><td style=\"text-align: center\">0</td><td style=\"text-align: center\">...</td><td style=\"text-align: center\">0</td><td style=\"text-align: center\">0</td><td style=\"text-align: center\">0</td><td style=\"text-align: center\">0</td><td style=\"text-align: center\">0</td></tr></tbody></table></div>"
      ],
      "text/plain": [
       "<HaplotypeArray shape=(1710, 1530) dtype=int8>\n",
       "0 0 0 0 0 ... 0 0 0 0 0\n",
       "0 0 0 0 0 ... 0 0 0 0 0\n",
       "0 0 0 0 0 ... 0 0 0 0 0\n",
       "...\n",
       "0 0 0 0 0 ... 0 0 0 0 0\n",
       "0 0 0 0 0 ... 0 0 0 0 0\n",
       "0 0 0 0 0 ... 0 0 0 0 0"
      ]
     },
     "execution_count": 89,
     "metadata": {},
     "output_type": "execute_result"
    }
   ],
   "source": [
    "# upstream \n",
    "pos_ups, h_ups, _, _ = load_data(callset_phased, '2L', stop=pos[0], n_variants=pos.shape[0])\n",
    "h_ups"
   ]
  },
  {
   "cell_type": "code",
   "execution_count": 90,
   "metadata": {},
   "outputs": [
    {
     "data": {
      "text/html": [
       "<div class=\"allel allel-DisplayAs1D\"><span>&lt;SortedIndex shape=(1710,) dtype=int32&gt;</span><table><thead><tr><th style=\"text-align: center\">0</th><th style=\"text-align: center\">1</th><th style=\"text-align: center\">2</th><th style=\"text-align: center\">3</th><th style=\"text-align: center\">4</th><th style=\"text-align: center\">...</th><th style=\"text-align: center\">1705</th><th style=\"text-align: center\">1706</th><th style=\"text-align: center\">1707</th><th style=\"text-align: center\">1708</th><th style=\"text-align: center\">1709</th></tr></thead><tbody><tr><td style=\"text-align: center\">2140926</td><td style=\"text-align: center\">2140945</td><td style=\"text-align: center\">2140962</td><td style=\"text-align: center\">2140970</td><td style=\"text-align: center\">2140985</td><td style=\"text-align: center\">...</td><td style=\"text-align: center\">2358056</td><td style=\"text-align: center\">2358063</td><td style=\"text-align: center\">2358084</td><td style=\"text-align: center\">2358093</td><td style=\"text-align: center\">2358254</td></tr></tbody></table></div>"
      ],
      "text/plain": [
       "<SortedIndex shape=(1710,) dtype=int32>\n",
       "[2140926, 2140945, 2140962, 2140970, 2140985, ..., 2358056, 2358063, 2358084, 2358093, 2358254]"
      ]
     },
     "execution_count": 90,
     "metadata": {},
     "output_type": "execute_result"
    }
   ],
   "source": [
    "pos_ups"
   ]
  },
  {
   "cell_type": "code",
   "execution_count": 91,
   "metadata": {},
   "outputs": [
    {
     "name": "stdout",
     "output_type": "stream",
     "text": [
      "Counter({b'MODIFIER': 1539, b'LOW': 102, b'MODERATE': 68, b'HIGH': 1})\n",
      "Counter({b'intergenic_region': 1092, b'downstream_gene_variant': 259, b'upstream_gene_variant': 155, b'synonymous_variant': 97, b'missense_variant': 67, b'intron_variant': 15, b'5_prime_UTR_variant': 14, b'3_prime_UTR_variant': 4, b'5_prime_UTR_premature_start_codon_': 3, b'splice_region_variant&intron_varia': 2, b'stop_gained': 1, b'missense_variant&splice_region_var': 1})\n"
     ]
    },
    {
     "data": {
      "text/html": [
       "<div class=\"allel allel-DisplayAs2D\"><span>&lt;HaplotypeArray shape=(1710, 1530) dtype=int8&gt;</span><table><thead><tr><th></th><th style=\"text-align: center\">0</th><th style=\"text-align: center\">1</th><th style=\"text-align: center\">2</th><th style=\"text-align: center\">3</th><th style=\"text-align: center\">4</th><th style=\"text-align: center\">...</th><th style=\"text-align: center\">1525</th><th style=\"text-align: center\">1526</th><th style=\"text-align: center\">1527</th><th style=\"text-align: center\">1528</th><th style=\"text-align: center\">1529</th></tr></thead><tbody><tr><th style=\"text-align: center; background-color: white; border-right: 1px solid black; \">0</th><td style=\"text-align: center\">0</td><td style=\"text-align: center\">0</td><td style=\"text-align: center\">0</td><td style=\"text-align: center\">0</td><td style=\"text-align: center\">0</td><td style=\"text-align: center\">...</td><td style=\"text-align: center\">0</td><td style=\"text-align: center\">0</td><td style=\"text-align: center\">0</td><td style=\"text-align: center\">0</td><td style=\"text-align: center\">0</td></tr><tr><th style=\"text-align: center; background-color: white; border-right: 1px solid black; \">1</th><td style=\"text-align: center\">1</td><td style=\"text-align: center\">1</td><td style=\"text-align: center\">0</td><td style=\"text-align: center\">1</td><td style=\"text-align: center\">1</td><td style=\"text-align: center\">...</td><td style=\"text-align: center\">1</td><td style=\"text-align: center\">1</td><td style=\"text-align: center\">1</td><td style=\"text-align: center\">1</td><td style=\"text-align: center\">1</td></tr><tr><th style=\"text-align: center; background-color: white; border-right: 1px solid black; \">2</th><td style=\"text-align: center\">0</td><td style=\"text-align: center\">0</td><td style=\"text-align: center\">0</td><td style=\"text-align: center\">0</td><td style=\"text-align: center\">0</td><td style=\"text-align: center\">...</td><td style=\"text-align: center\">0</td><td style=\"text-align: center\">0</td><td style=\"text-align: center\">0</td><td style=\"text-align: center\">0</td><td style=\"text-align: center\">0</td></tr><tr><th style=\"text-align: center; background-color: white; border-right: 1px solid black; \">...</th><td style=\"text-align: center\" colspan=\"12\">...</td></tr><tr><th style=\"text-align: center; background-color: white; border-right: 1px solid black; \">1707</th><td style=\"text-align: center\">0</td><td style=\"text-align: center\">0</td><td style=\"text-align: center\">0</td><td style=\"text-align: center\">0</td><td style=\"text-align: center\">0</td><td style=\"text-align: center\">...</td><td style=\"text-align: center\">0</td><td style=\"text-align: center\">0</td><td style=\"text-align: center\">0</td><td style=\"text-align: center\">0</td><td style=\"text-align: center\">0</td></tr><tr><th style=\"text-align: center; background-color: white; border-right: 1px solid black; \">1708</th><td style=\"text-align: center\">0</td><td style=\"text-align: center\">0</td><td style=\"text-align: center\">0</td><td style=\"text-align: center\">0</td><td style=\"text-align: center\">0</td><td style=\"text-align: center\">...</td><td style=\"text-align: center\">0</td><td style=\"text-align: center\">0</td><td style=\"text-align: center\">0</td><td style=\"text-align: center\">0</td><td style=\"text-align: center\">0</td></tr><tr><th style=\"text-align: center; background-color: white; border-right: 1px solid black; \">1709</th><td style=\"text-align: center\">1</td><td style=\"text-align: center\">0</td><td style=\"text-align: center\">0</td><td style=\"text-align: center\">1</td><td style=\"text-align: center\">1</td><td style=\"text-align: center\">...</td><td style=\"text-align: center\">1</td><td style=\"text-align: center\">0</td><td style=\"text-align: center\">1</td><td style=\"text-align: center\">0</td><td style=\"text-align: center\">1</td></tr></tbody></table></div>"
      ],
      "text/plain": [
       "<HaplotypeArray shape=(1710, 1530) dtype=int8>\n",
       "0 0 0 0 0 ... 0 0 0 0 0\n",
       "1 1 0 1 1 ... 1 1 1 1 1\n",
       "0 0 0 0 0 ... 0 0 0 0 0\n",
       "...\n",
       "0 0 0 0 0 ... 0 0 0 0 0\n",
       "0 0 0 0 0 ... 0 0 0 0 0\n",
       "1 0 0 1 1 ... 1 0 1 0 1"
      ]
     },
     "execution_count": 91,
     "metadata": {},
     "output_type": "execute_result"
    }
   ],
   "source": [
    "# downstream \n",
    "pos_dns, h_dns, _, _ = load_data(callset_phased, '2L', start=pos[-1], n_variants=pos.shape[0])\n",
    "h_dns"
   ]
  },
  {
   "cell_type": "code",
   "execution_count": 92,
   "metadata": {},
   "outputs": [
    {
     "data": {
      "text/html": [
       "<div class=\"allel allel-DisplayAs1D\"><span>&lt;SortedIndex shape=(1710,) dtype=int32&gt;</span><table><thead><tr><th style=\"text-align: center\">0</th><th style=\"text-align: center\">1</th><th style=\"text-align: center\">2</th><th style=\"text-align: center\">3</th><th style=\"text-align: center\">4</th><th style=\"text-align: center\">...</th><th style=\"text-align: center\">1705</th><th style=\"text-align: center\">1706</th><th style=\"text-align: center\">1707</th><th style=\"text-align: center\">1708</th><th style=\"text-align: center\">1709</th></tr></thead><tbody><tr><td style=\"text-align: center\">2431542</td><td style=\"text-align: center\">2431662</td><td style=\"text-align: center\">2431725</td><td style=\"text-align: center\">2431729</td><td style=\"text-align: center\">2431783</td><td style=\"text-align: center\">...</td><td style=\"text-align: center\">2547843</td><td style=\"text-align: center\">2547869</td><td style=\"text-align: center\">2547871</td><td style=\"text-align: center\">2547875</td><td style=\"text-align: center\">2547876</td></tr></tbody></table></div>"
      ],
      "text/plain": [
       "<SortedIndex shape=(1710,) dtype=int32>\n",
       "[2431542, 2431662, 2431725, 2431729, 2431783, ..., 2547843, 2547869, 2547871, 2547875, 2547876]"
      ]
     },
     "execution_count": 92,
     "metadata": {},
     "output_type": "execute_result"
    }
   ],
   "source": [
    "pos_dns"
   ]
  },
  {
   "cell_type": "markdown",
   "metadata": {},
   "source": [
    "## Plot missense haplotypes"
   ]
  },
  {
   "cell_type": "code",
   "execution_count": 93,
   "metadata": {
    "collapsed": true
   },
   "outputs": [],
   "source": [
    "def plot_missense_haplotypes(ax, h, mut_labels):\n",
    "    h = h.copy()\n",
    "    # colours for colormap\n",
    "    mycol = ['r', 'w', 'k'] \n",
    "    # alter rows with kdr mutations for color map to pick up\n",
    "#     known_muts = ['L995S (2984T>C)', 'L995F (2985A>T)', 'N1570Y (4708A>T)']\n",
    "    known_muts = ['L995S', 'L995F', 'N1570Y']\n",
    "    for mut in known_muts:\n",
    "        if mut in mut_labels:\n",
    "            h[mut_labels.index(mut)] *= -1\n",
    "\n",
    "    # make colormap\n",
    "    cake = mpl.colors.ListedColormap(mycol, name='mymap', N=3)\n",
    "    # plot\n",
    "    ax.pcolormesh(np.asarray(h[::-1]), cmap=cake, vmin=-1, vmax=1, zorder=-10)\n",
    "        \n",
    "    ax.set_yticks(np.arange(h.shape[0])+.5)\n",
    "    lbl = [l for l in mut_labels[::-1]]\n",
    "#     lbl = ['%s' % l for l in mut_labels[::-1]]\n",
    "    ax.set_yticklabels(lbl, family='monospace', fontsize=6)\n",
    "    ax.set_ylabel('Non-synonymous SNPs')\n",
    "    \n",
    "    for ytick in ax.get_yticklabels():\n",
    "        if ytick.get_text() in known_muts:\n",
    "            ytick.set_color('r')\n",
    "    \n",
    "    ax.hlines(np.arange(h.shape[0]+1), 0, h.shape[1], color='k', lw=.5)\n",
    "    ax.set_xlim(0, h.shape[1])\n",
    "    ax.set_ylim(0, h.shape[0])\n",
    "#     ax.set_xticks([])\n",
    "    ax.yaxis.tick_left()\n",
    "    ax.set_xticks([])\n",
    "    # rasterize to avoid SVG antialiasing issues and reduce file size\n",
    "    ax.set_rasterization_zorder(-5)\n",
    "#     ax.set_xticks(list(range(0, h.shape[1], 200)) + [h.shape[1]])\n",
    "#     ax.xaxis.tick_bottom()\n",
    "#     ax.spines['top'].set_visible(False)\n",
    "#     ax.spines['bottom'].set_visible(False)"
   ]
  },
  {
   "cell_type": "code",
   "execution_count": 94,
   "metadata": {},
   "outputs": [
    {
     "data": {
      "image/png": "[encoded data removed]",
      "text/plain": [
       "<matplotlib.figure.Figure at 0x7f2e77db5c50>"
      ]
     },
     "metadata": {},
     "output_type": "display_data"
    }
   ],
   "source": [
    "fig, ax = plt.subplots()\n",
    "plot_missense_haplotypes(ax, h_missense, missense_mutations)"
   ]
  },
  {
   "cell_type": "markdown",
   "metadata": {},
   "source": [
    "## Cluster haplotypes"
   ]
  },
  {
   "cell_type": "code",
   "execution_count": 95,
   "metadata": {},
   "outputs": [
    {
     "data": {
      "image/png": "[encoded data removed]",
      "text/plain": [
       "<matplotlib.figure.Figure at 0x7f2e77cce898>"
      ]
     },
     "metadata": {},
     "output_type": "display_data"
    }
   ],
   "source": [
    "def plot_dendrogram(h, ax, method='complete', color_threshold=0, above_threshold_color='k'):\n",
    "    \n",
    "    # compute distance matrix\n",
    "    dist = allel.stats.pairwise_distance(h, 'hamming') * h.shape[0]\n",
    "\n",
    "    # HACKING SCIPY TO GET TO OLD CLUSTERING METHOD\n",
    "    # https://github.com/scipy/scipy/blob/v0.18.1/scipy/cluster/hierarchy.py#L470-L667\n",
    "    # 1. fiddle with format\n",
    "    y = _convert_to_double(np.asarray(dist, order='c'))\n",
    "    # 2. get n\n",
    "    n = int(distance.num_obs_y(dist))\n",
    "    # 3. do clustering\n",
    "    method = dict(single=0, complete=1)[method]\n",
    "    z = _hierarchy.linkage(y, n, method)    \n",
    "\n",
    "    # plot dendrogram\n",
    "    sns.despine(ax=ax, offset=5, bottom=True, top=False)\n",
    "    r = scipy.cluster.hierarchy.dendrogram(z, no_labels=True, count_sort=True, \n",
    "                                           color_threshold=color_threshold, \n",
    "                                           above_threshold_color=above_threshold_color,\n",
    "                                           ax=ax)\n",
    "    xmin, xmax = ax.xaxis.get_data_interval()\n",
    "    xticklabels = np.array(list(range(0, h.shape[1], 200)) + [h.shape[1]])\n",
    "    xticks = xticklabels / h.shape[1]\n",
    "    xticks = (xticks * (xmax - xmin)) + xmin\n",
    "    ax.set_xticks(xticks)\n",
    "    ax.set_xticklabels(xticklabels)\n",
    "    ax.set_xlabel('Haplotypes')\n",
    "    ax.xaxis.set_label_position('top')\n",
    "    ax.set_ylim(bottom=-10)\n",
    "#     ax.set_xlim(left=-10)\n",
    "    ax.set_ylabel('Distance (no. SNPs)')\n",
    "    ax.autoscale(axis='x', tight=True)\n",
    "    return z, r\n",
    "\n",
    "fig, ax = plt.subplots(figsize=(10, 5))\n",
    "plot_dendrogram(h, ax);"
   ]
  },
  {
   "cell_type": "markdown",
   "metadata": {},
   "source": [
    "## Assemble figure"
   ]
  },
  {
   "cell_type": "code",
   "execution_count": 96,
   "metadata": {},
   "outputs": [],
   "source": [
    "populations = phase1_ar3.pop_ids\n",
    "pop_colours = phase1_ar3.pop_colors\n",
    "pop_labels = phase1_ar3.pop_labels"
   ]
  },
  {
   "cell_type": "code",
   "execution_count": 97,
   "metadata": {},
   "outputs": [
    {
     "data": {
      "text/html": [
       "<div>\n",
       "<style>\n",
       "    .dataframe thead tr:only-child th {\n",
       "        text-align: right;\n",
       "    }\n",
       "\n",
       "    .dataframe thead th {\n",
       "        text-align: left;\n",
       "    }\n",
       "\n",
       "    .dataframe tbody tr th {\n",
       "        vertical-align: top;\n",
       "    }\n",
       "</style>\n",
       "<table border=\"1\" class=\"dataframe\">\n",
       "  <thead>\n",
       "    <tr style=\"text-align: right;\">\n",
       "      <th></th>\n",
       "      <th>label</th>\n",
       "      <th>ox_code</th>\n",
       "      <th>population</th>\n",
       "      <th>label_aug</th>\n",
       "      <th>country</th>\n",
       "      <th>region</th>\n",
       "      <th>sex</th>\n",
       "      <th>m_s</th>\n",
       "      <th>kt_2la</th>\n",
       "      <th>kt_2rb</th>\n",
       "    </tr>\n",
       "    <tr>\n",
       "      <th>index</th>\n",
       "      <th></th>\n",
       "      <th></th>\n",
       "      <th></th>\n",
       "      <th></th>\n",
       "      <th></th>\n",
       "      <th></th>\n",
       "      <th></th>\n",
       "      <th></th>\n",
       "      <th></th>\n",
       "      <th></th>\n",
       "    </tr>\n",
       "  </thead>\n",
       "  <tbody>\n",
       "    <tr>\n",
       "      <th>0</th>\n",
       "      <td>AB0085-Ca</td>\n",
       "      <td>AB0085-C</td>\n",
       "      <td>BFS</td>\n",
       "      <td>AB0085-Ca [Burkina Faso, Pala, S, F]</td>\n",
       "      <td>Burkina Faso</td>\n",
       "      <td>Pala</td>\n",
       "      <td>F</td>\n",
       "      <td>S</td>\n",
       "      <td>2.0</td>\n",
       "      <td>2.0</td>\n",
       "    </tr>\n",
       "    <tr>\n",
       "      <th>1</th>\n",
       "      <td>AB0085-Cb</td>\n",
       "      <td>AB0085-C</td>\n",
       "      <td>BFS</td>\n",
       "      <td>AB0085-Cb [Burkina Faso, Pala, S, F]</td>\n",
       "      <td>Burkina Faso</td>\n",
       "      <td>Pala</td>\n",
       "      <td>F</td>\n",
       "      <td>S</td>\n",
       "      <td>2.0</td>\n",
       "      <td>2.0</td>\n",
       "    </tr>\n",
       "    <tr>\n",
       "      <th>2</th>\n",
       "      <td>AB0087-Ca</td>\n",
       "      <td>AB0087-C</td>\n",
       "      <td>BFM</td>\n",
       "      <td>AB0087-Ca [Burkina Faso, Bana, M, F]</td>\n",
       "      <td>Burkina Faso</td>\n",
       "      <td>Bana</td>\n",
       "      <td>F</td>\n",
       "      <td>M</td>\n",
       "      <td>2.0</td>\n",
       "      <td>1.0</td>\n",
       "    </tr>\n",
       "    <tr>\n",
       "      <th>3</th>\n",
       "      <td>AB0087-Cb</td>\n",
       "      <td>AB0087-C</td>\n",
       "      <td>BFM</td>\n",
       "      <td>AB0087-Cb [Burkina Faso, Bana, M, F]</td>\n",
       "      <td>Burkina Faso</td>\n",
       "      <td>Bana</td>\n",
       "      <td>F</td>\n",
       "      <td>M</td>\n",
       "      <td>2.0</td>\n",
       "      <td>1.0</td>\n",
       "    </tr>\n",
       "    <tr>\n",
       "      <th>4</th>\n",
       "      <td>AB0088-Ca</td>\n",
       "      <td>AB0088-C</td>\n",
       "      <td>BFM</td>\n",
       "      <td>AB0088-Ca [Burkina Faso, Bana, M, F]</td>\n",
       "      <td>Burkina Faso</td>\n",
       "      <td>Bana</td>\n",
       "      <td>F</td>\n",
       "      <td>M</td>\n",
       "      <td>2.0</td>\n",
       "      <td>0.0</td>\n",
       "    </tr>\n",
       "  </tbody>\n",
       "</table>\n",
       "</div>"
      ],
      "text/plain": [
       "           label   ox_code population                             label_aug  \\\n",
       "index                                                                         \n",
       "0      AB0085-Ca  AB0085-C        BFS  AB0085-Ca [Burkina Faso, Pala, S, F]   \n",
       "1      AB0085-Cb  AB0085-C        BFS  AB0085-Cb [Burkina Faso, Pala, S, F]   \n",
       "2      AB0087-Ca  AB0087-C        BFM  AB0087-Ca [Burkina Faso, Bana, M, F]   \n",
       "3      AB0087-Cb  AB0087-C        BFM  AB0087-Cb [Burkina Faso, Bana, M, F]   \n",
       "4      AB0088-Ca  AB0088-C        BFM  AB0088-Ca [Burkina Faso, Bana, M, F]   \n",
       "\n",
       "            country region sex m_s  kt_2la  kt_2rb  \n",
       "index                                               \n",
       "0      Burkina Faso   Pala   F   S     2.0     2.0  \n",
       "1      Burkina Faso   Pala   F   S     2.0     2.0  \n",
       "2      Burkina Faso   Bana   F   M     2.0     1.0  \n",
       "3      Burkina Faso   Bana   F   M     2.0     1.0  \n",
       "4      Burkina Faso   Bana   F   M     2.0     0.0  "
      ]
     },
     "execution_count": 97,
     "metadata": {},
     "output_type": "execute_result"
    }
   ],
   "source": [
    "df_haplotypes = phase1_ar31.df_haplotypes\n",
    "df_haplotypes.head()"
   ]
  },
  {
   "cell_type": "code",
   "execution_count": 98,
   "metadata": {
    "collapsed": true
   },
   "outputs": [],
   "source": [
    "def fig_hap_structure(h, h_display=None, mutations=None, vspans=[[]], cluster_labels=[], figsize=(5, 4), \n",
    "                      fn=None, dpi=150, height_ratios=(2.5, .2, 2.8, .2), hap_pops=None, legend=True):\n",
    "    \n",
    "    # create the figure\n",
    "    fig = plt.figure(figsize=figsize)\n",
    "    \n",
    "    # define subplot layout\n",
    "    gs_nrows = 4\n",
    "    gs_ncols = 1\n",
    "    gs = mpl.gridspec.GridSpec(gs_nrows, gs_ncols, hspace=0.04, wspace=0.04,\n",
    "                               height_ratios=height_ratios)\n",
    "    \n",
    "    # dendrogram\n",
    "    ax_dend = fig.add_subplot(gs[0, 0])\n",
    "    z, r = plot_dendrogram(h, ax_dend, color_threshold=0)\n",
    "    ax_dend.set_ylim(bottom=-5)\n",
    "#     for xmin, xmax in vspans:\n",
    "#         ax.add_patch(plt.Rectangle((xmin, 0), (xmax-xmin), 1,\n",
    "#                                    facecolor='k', edgecolor='k', alpha=.1,\n",
    "#                                    transform=ax.transAxes, zorder=20))\n",
    "#     ax.vlines(vspans.flat, 0, 1, transform=ax.transAxes, linestyle=':')\n",
    "#     if legend:\n",
    "#         handles = [mpl.patches.Patch(color=pop_colours[pop], label=pop_labels[pop]) for pop in populations]\n",
    "#         ax_dend.legend(handles=handles, loc='upper right', bbox_to_anchor=(1, 1), ncol=3)\n",
    "    ax_dend.set_yticklabels(ax_dend.get_yticks().astype(int))\n",
    "    ax_dend.xaxis.set_tick_params(length=3, pad=2)\n",
    "    ax_dend.yaxis.set_tick_params(length=3, pad=2)\n",
    "\n",
    "    # population colours\n",
    "    ax_pops = fig.add_subplot(gs[1, 0])\n",
    "    if hap_pops is None:\n",
    "        hap_pops = df_haplotypes.population.values\n",
    "    x = hap_pops.take(r['leaves'])\n",
    "    hap_clrs = [pop_colours[p] for p in x]\n",
    "    ax_pops.broken_barh(xranges=[(i, 1) for i in range(h.shape[1])], yrange=(0, 1), color=hap_clrs);\n",
    "    sns.despine(ax=ax_pops, offset=5, left=True, bottom=True)\n",
    "    ax_pops.set_xticks([])\n",
    "    ax_pops.set_yticks([])\n",
    "    ax_pops.set_xlim(0, h.shape[1])\n",
    "    ax_pops.yaxis.set_label_position('left')\n",
    "    ax_pops.set_ylabel('Population', rotation=0, ha='right', va='center')\n",
    "\n",
    "    # missense mutations\n",
    "    if h_display is not None:\n",
    "        ax_mut = fig.add_subplot(gs[2, 0])\n",
    "        plot_missense_haplotypes(ax_mut, h_display.take(r['leaves'], axis=1), mutations)\n",
    "        ax_mut.set_xticks([])\n",
    "        ax_mut.yaxis.set_tick_params(length=3, pad=2)\n",
    "\n",
    "    # KDR haplotype clusters\n",
    "    ax_clu = fig.add_subplot(gs[3, 0])\n",
    "    sns.despine(ax=ax_clu, bottom=True, left=True)\n",
    "    ax_clu.set_xlim(0, h.shape[1])\n",
    "    ax_clu.set_ylim(0, 1)\n",
    "    for lbl, (xmin, xmax) in zip(cluster_labels, vspans):\n",
    "        if lbl:\n",
    "            # hack to get the \"fraction\" right, which controls length of bracket arms\n",
    "            fraction = -20 / (xmax - xmin)\n",
    "            ax_clu.annotate(\"\", ha='left', va='center',\n",
    "                            xy=(xmin, 1), xycoords='data',\n",
    "                            xytext=(xmax, 1), textcoords='data',\n",
    "                            arrowprops=dict(arrowstyle=\"-\",\n",
    "                                            connectionstyle=\"bar,fraction=%.4f\" % fraction,\n",
    "                                            ),\n",
    "                            )\n",
    "            ax_clu.text((xmax + xmin)/2, 0.2, lbl, va='top', ha='center', fontsize=6)\n",
    "            ax_pops.vlines([xmin, xmax], 0, 1, linestyle=':')\n",
    "            ax_mut.add_patch(plt.Rectangle((xmin, 0), (xmax-xmin), h_display.shape[0],\n",
    "                             facecolor='k', edgecolor='k', alpha=.1,\n",
    "                             zorder=20))\n",
    "            ax_mut.vlines([xmin, xmax], 0, h_display.shape[0], linestyle=':')\n",
    "    ax_clu.set_xticks([])\n",
    "    ax_clu.set_yticks([])\n",
    "    ax_clu.set_xlabel('$kdr$ haplotype clusters')\n",
    "    \n",
    "    if fn:\n",
    "        fig.savefig(fn, jpeg_quality=100, dpi=dpi, bbox_inches='tight')\n",
    "        \n",
    "    return z, r"
   ]
  },
  {
   "cell_type": "code",
   "execution_count": 99,
   "metadata": {},
   "outputs": [
    {
     "data": {
      "image/png": "[encoded data removed]",
      "text/plain": [
       "<matplotlib.figure.Figure at 0x7f2e75eb8128>"
      ]
     },
     "metadata": {},
     "output_type": "display_data"
    }
   ],
   "source": [
    "z, r = fig_hap_structure(h, h_missense, missense_mutations)"
   ]
  },
  {
   "cell_type": "code",
   "execution_count": 100,
   "metadata": {},
   "outputs": [
    {
     "data": {
      "image/png": "[encoded data removed]",
      "text/plain": [
       "<matplotlib.figure.Figure at 0x7f2e7610bb00>"
      ]
     },
     "metadata": {},
     "output_type": "display_data"
    }
   ],
   "source": [
    "z_ups, r_ups = fig_hap_structure(h_ups, h_missense, missense_mutations)\n"
   ]
  },
  {
   "cell_type": "code",
   "execution_count": 101,
   "metadata": {},
   "outputs": [
    {
     "data": {
      "image/png": "[encoded data removed]",
      "text/plain": [
       "<matplotlib.figure.Figure at 0x7f2e77da4be0>"
      ]
     },
     "metadata": {},
     "output_type": "display_data"
    }
   ],
   "source": [
    "z_dns, r_dns = fig_hap_structure(h_dns, h_missense, missense_mutations)"
   ]
  },
  {
   "cell_type": "markdown",
   "metadata": {},
   "source": [
    "# Cut the dendrogram"
   ]
  },
  {
   "cell_type": "code",
   "execution_count": 102,
   "metadata": {
    "collapsed": true
   },
   "outputs": [],
   "source": [
    "# gives the haplotype indices of the haplotypes in the n largest clusters\n",
    "def find_clusters(z, n, threshold=12):\n",
    "    \n",
    "    # find clusters\n",
    "    f = scipy.cluster.hierarchy.fcluster(z, threshold, criterion='distance')\n",
    "    \n",
    "    # compute cluster sizes\n",
    "    fsz = np.bincount(f)\n",
    "    \n",
    "    # sort largest first\n",
    "    fsort = np.argsort(fsz)[::-1]\n",
    "    \n",
    "    # take largest n\n",
    "    fsort = fsort[:n]\n",
    "    \n",
    "    # get haplotype indices for each cluster\n",
    "    clusters = [set(np.nonzero(f == i)[0]) for i in fsort]\n",
    "    \n",
    "    return clusters"
   ]
  },
  {
   "cell_type": "code",
   "execution_count": 103,
   "metadata": {
    "collapsed": true
   },
   "outputs": [],
   "source": [
    "def truspan(cluster, r):\n",
    "    # get the index of the cluster haps in the dendrogram list of all haps\n",
    "    cluster_leaves = sorted([r['leaves'].index(i) for i in cluster])\n",
    "    # are these indices monotonic - they should be!\n",
    "    x = np.asarray(cluster_leaves)\n",
    "    dx = np.diff(x)\n",
    "    mon = np.all(dx == 1)\n",
    "    assert mon\n",
    "    return min(cluster_leaves), max(cluster_leaves)\n",
    "    "
   ]
  },
  {
   "cell_type": "code",
   "execution_count": 104,
   "metadata": {},
   "outputs": [
    {
     "data": {
      "text/plain": [
       "array([ 10.,   5.])"
      ]
     },
     "execution_count": 104,
     "metadata": {},
     "output_type": "execute_result"
    }
   ],
   "source": [
    "fig.get_size_inches()"
   ]
  },
  {
   "cell_type": "code",
   "execution_count": 105,
   "metadata": {},
   "outputs": [
    {
     "data": {
      "image/png": "[encoded data removed]",
      "text/plain": [
       "<matplotlib.figure.Figure at 0x7f2e75d6e4a8>"
      ]
     },
     "metadata": {},
     "output_type": "display_data"
    }
   ],
   "source": [
    "clustard = find_clusters(z, n=13, threshold=10)\n",
    "vspans = [truspan(cluster, r) for cluster in clustard]\n",
    "cluster_labels = ['F1', 'F5', 'S3', 'S1', 'S2', 'F3', 'F4', 'S4', 'S5', '', '', '', 'F2']\n",
    "fig_hap_structure(h, h_missense, mutations=missense_mutations, vspans=np.array(vspans), cluster_labels=cluster_labels);\n",
    "fig = plt.gcf()\n",
    "ax_dend = fig.axes[0]\n",
    "# ax_dend.text(-0.08, 1.2, 'a', transform=ax_dend.transAxes, ha='left', va='top', fontsize=10, fontweight='bold')\n",
    "fig.savefig('../artwork/vgsc_haplotypes.pdf', jpeg_quality=100, dpi=600, bbox_inches='tight')\n"
   ]
  },
  {
   "cell_type": "code",
   "execution_count": 106,
   "metadata": {},
   "outputs": [
    {
     "data": {
      "image/png": "[encoded data removed]",
      "text/plain": [
       "<matplotlib.figure.Figure at 0x7f2e71e35c18>"
      ]
     },
     "metadata": {},
     "output_type": "display_data"
    }
   ],
   "source": [
    "clustard_ups = find_clusters(z_ups, n=13, threshold=10)\n",
    "vspans = [truspan(cluster, r_ups) for cluster in clustard_ups]\n",
    "cluster_labels_ups = ['a', 'b', 'c', 'd', 'e', 'f', 'g', 'h', 'i', 'j', 'k', 'l', 'm']\n",
    "fig_hap_structure(h_ups, h_missense, mutations=missense_mutations, vspans=np.array(vspans), cluster_labels=cluster_labels_ups);"
   ]
  },
  {
   "cell_type": "code",
   "execution_count": 107,
   "metadata": {},
   "outputs": [
    {
     "data": {
      "image/png": "[encoded data removed]",
      "text/plain": [
       "<matplotlib.figure.Figure at 0x7f2e77dd99b0>"
      ]
     },
     "metadata": {},
     "output_type": "display_data"
    }
   ],
   "source": [
    "clustard_dns = find_clusters(z_dns, n=13, threshold=10)\n",
    "vspans = [truspan(cluster, r_dns) for cluster in clustard_dns]\n",
    "cluster_labels_dns = ['a', 'b', 'c', 'd', 'e', 'f', 'g', 'h', 'i', 'j', 'k', 'l', 'm']\n",
    "fig_hap_structure(h_dns, h_missense, mutations=missense_mutations, vspans=np.array(vspans), cluster_labels=cluster_labels_dns);"
   ]
  },
  {
   "cell_type": "markdown",
   "metadata": {},
   "source": [
    "### Compare clustering up and downstream"
   ]
  },
  {
   "cell_type": "code",
   "execution_count": 108,
   "metadata": {
    "collapsed": true
   },
   "outputs": [],
   "source": [
    "def compare_clusters(clustard1, clustard2, labels1, labels2):\n",
    "    for c1, l1 in zip(clustard1, labels1):\n",
    "        if l1:\n",
    "            n_isec_max = 0\n",
    "            l2_best = None\n",
    "            l2_best_size = None\n",
    "            for c2, l2 in zip(clustard2, labels2):\n",
    "                n_isec = len(c1.intersection(c2))\n",
    "                if n_isec > n_isec_max:\n",
    "                    n_isec_max = n_isec\n",
    "                    l2_best = l2\n",
    "                    l2_best_size = len(c2)\n",
    "            print(l1, len(c1), 'best match', l2_best, l2_best_size, 'intersection', n_isec_max, '{:.1f}%'.format(n_isec_max * 100 / len(c1)))\n"
   ]
  },
  {
   "cell_type": "code",
   "execution_count": 109,
   "metadata": {},
   "outputs": [
    {
     "name": "stdout",
     "output_type": "stream",
     "text": [
      "F1 464 best match a 448 intersection 445 95.9%\n",
      "F5 196 best match b 181 intersection 179 91.3%\n",
      "S3 165 best match c 164 intersection 164 99.4%\n",
      "S1 108 best match d 108 intersection 108 100.0%\n",
      "S2 79 best match e 74 intersection 74 93.7%\n",
      "F3 42 best match h 42 intersection 42 100.0%\n",
      "F4 38 best match g 56 intersection 37 97.4%\n",
      "S4 37 best match f 71 intersection 35 94.6%\n",
      "S5 36 best match f 71 intersection 35 97.2%\n",
      "F2 14 best match l 13 intersection 13 92.9%\n"
     ]
    }
   ],
   "source": [
    "compare_clusters(clustard, clustard_ups, cluster_labels, cluster_labels_ups)"
   ]
  },
  {
   "cell_type": "code",
   "execution_count": 110,
   "metadata": {},
   "outputs": [
    {
     "name": "stdout",
     "output_type": "stream",
     "text": [
      "F1 464 best match a 405 intersection 401 86.4%\n",
      "F5 196 best match b 197 intersection 194 99.0%\n",
      "S3 165 best match c 164 intersection 164 99.4%\n",
      "S1 108 best match d 118 intersection 105 97.2%\n",
      "S2 79 best match e 79 intersection 79 100.0%\n",
      "F3 42 best match i 42 intersection 42 100.0%\n",
      "F4 38 best match g 51 intersection 38 100.0%\n",
      "S4 37 best match f 70 intersection 34 91.9%\n",
      "S5 36 best match f 70 intersection 35 97.2%\n",
      "F2 14 best match m 13 intersection 13 92.9%\n"
     ]
    }
   ],
   "source": [
    "compare_clusters(clustard, clustard_dns, cluster_labels, cluster_labels_dns)"
   ]
  },
  {
   "cell_type": "markdown",
   "metadata": {},
   "source": [
    "### Compare clustering special versus genome-wide phasing"
   ]
  },
  {
   "cell_type": "code",
   "execution_count": 111,
   "metadata": {
    "collapsed": true
   },
   "outputs": [],
   "source": [
    "hap_sample_labels = df_haplotypes.ox_code"
   ]
  },
  {
   "cell_type": "code",
   "execution_count": 112,
   "metadata": {
    "collapsed": true
   },
   "outputs": [],
   "source": [
    "cluster_samples = dict()\n",
    "for l, c in zip(cluster_labels, clustard):\n",
    "    cluster_samples[l] = set(hap_sample_labels.take(list(c)))"
   ]
  },
  {
   "cell_type": "code",
   "execution_count": 113,
   "metadata": {
    "collapsed": true
   },
   "outputs": [],
   "source": [
    "def save_cluster_membership(fn, h, clusters, cluster_labels):\n",
    "\n",
    "    # save cluster membership\n",
    "    cluster_membership = np.empty(h.shape[1], dtype='S2')\n",
    "    cluster_membership[:] = b''\n",
    "    for cluster, lbl in zip(clusters, cluster_labels):\n",
    "        hidx = sorted(cluster)\n",
    "        cluster_membership[hidx] = lbl.encode('ascii')[:2]\n",
    "\n",
    "    np.save(fn, cluster_membership)"
   ]
  },
  {
   "cell_type": "code",
   "execution_count": 114,
   "metadata": {
    "collapsed": true
   },
   "outputs": [],
   "source": [
    "save_cluster_membership('../data/vgsc_cluster_membership.npy', h, clustard, cluster_labels)"
   ]
  }
 ],
 "metadata": {
  "kernelspec": {
   "display_name": "Python 3",
   "language": "python",
   "name": "python3"
  },
  "language_info": {
   "codemirror_mode": {
    "name": "ipython",
    "version": 3
   },
   "file_extension": ".py",
   "mimetype": "text/x-python",
   "name": "python",
   "nbconvert_exporter": "python",
   "pygments_lexer": "ipython3",
   "version": "3.5.4"
  }
 },
 "nbformat": 4,
 "nbformat_minor": 1
}
